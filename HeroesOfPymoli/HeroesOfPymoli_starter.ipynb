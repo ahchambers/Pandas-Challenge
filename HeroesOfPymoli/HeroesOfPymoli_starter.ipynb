{
 "cells": [
  {
   "cell_type": "markdown",
   "metadata": {},
   "source": [
    "### Note\n",
    "* Instructions have been included for each segment. You do not have to follow them exactly, but they are included to help you think through the steps."
   ]
  },
  {
   "cell_type": "code",
   "execution_count": 78,
   "metadata": {},
   "outputs": [
    {
     "output_type": "execute_result",
     "data": {
      "text/plain": "   Purchase ID             SN  Age Gender  Item ID  \\\n0            0        Lisim78   20   Male      108   \n1            1    Lisovynya38   40   Male      143   \n2            2     Ithergue48   24   Male       92   \n3            3  Chamassasya86   24   Male      100   \n4            4      Iskosia90   23   Male      131   \n\n                                   Item Name  Price  \n0  Extraction, Quickblade Of Trembling Hands   3.53  \n1                          Frenzied Scimitar   1.56  \n2                               Final Critic   4.88  \n3                                Blindscythe   3.27  \n4                                       Fury   1.44  ",
      "text/html": "<div>\n<style scoped>\n    .dataframe tbody tr th:only-of-type {\n        vertical-align: middle;\n    }\n\n    .dataframe tbody tr th {\n        vertical-align: top;\n    }\n\n    .dataframe thead th {\n        text-align: right;\n    }\n</style>\n<table border=\"1\" class=\"dataframe\">\n  <thead>\n    <tr style=\"text-align: right;\">\n      <th></th>\n      <th>Purchase ID</th>\n      <th>SN</th>\n      <th>Age</th>\n      <th>Gender</th>\n      <th>Item ID</th>\n      <th>Item Name</th>\n      <th>Price</th>\n    </tr>\n  </thead>\n  <tbody>\n    <tr>\n      <th>0</th>\n      <td>0</td>\n      <td>Lisim78</td>\n      <td>20</td>\n      <td>Male</td>\n      <td>108</td>\n      <td>Extraction, Quickblade Of Trembling Hands</td>\n      <td>3.53</td>\n    </tr>\n    <tr>\n      <th>1</th>\n      <td>1</td>\n      <td>Lisovynya38</td>\n      <td>40</td>\n      <td>Male</td>\n      <td>143</td>\n      <td>Frenzied Scimitar</td>\n      <td>1.56</td>\n    </tr>\n    <tr>\n      <th>2</th>\n      <td>2</td>\n      <td>Ithergue48</td>\n      <td>24</td>\n      <td>Male</td>\n      <td>92</td>\n      <td>Final Critic</td>\n      <td>4.88</td>\n    </tr>\n    <tr>\n      <th>3</th>\n      <td>3</td>\n      <td>Chamassasya86</td>\n      <td>24</td>\n      <td>Male</td>\n      <td>100</td>\n      <td>Blindscythe</td>\n      <td>3.27</td>\n    </tr>\n    <tr>\n      <th>4</th>\n      <td>4</td>\n      <td>Iskosia90</td>\n      <td>23</td>\n      <td>Male</td>\n      <td>131</td>\n      <td>Fury</td>\n      <td>1.44</td>\n    </tr>\n  </tbody>\n</table>\n</div>"
     },
     "metadata": {},
     "execution_count": 78
    }
   ],
   "source": [
    "# Dependencies and Setup\n",
    "import pandas as pd\n",
    "\n",
    "# File to Load (Remember to Change These)\n",
    "file_to_load = \"Resources/purchase_data.csv\"\n",
    "\n",
    "# Read Purchasing File and store into Pandas data frame\n",
    "purchase_data = pd.read_csv(file_to_load)\n",
    "purchase_data.head()"
   ]
  },
  {
   "cell_type": "markdown",
   "metadata": {},
   "source": [
    "## Player Count"
   ]
  },
  {
   "cell_type": "markdown",
   "metadata": {},
   "source": [
    "* Display the total number of players\n"
   ]
  },
  {
   "cell_type": "code",
   "execution_count": 3,
   "metadata": {},
   "outputs": [
    {
     "output_type": "execute_result",
     "data": {
      "text/plain": "   Total Players\n0            576",
      "text/html": "<div>\n<style scoped>\n    .dataframe tbody tr th:only-of-type {\n        vertical-align: middle;\n    }\n\n    .dataframe tbody tr th {\n        vertical-align: top;\n    }\n\n    .dataframe thead th {\n        text-align: right;\n    }\n</style>\n<table border=\"1\" class=\"dataframe\">\n  <thead>\n    <tr style=\"text-align: right;\">\n      <th></th>\n      <th>Total Players</th>\n    </tr>\n  </thead>\n  <tbody>\n    <tr>\n      <th>0</th>\n      <td>576</td>\n    </tr>\n  </tbody>\n</table>\n</div>"
     },
     "metadata": {},
     "execution_count": 3
    }
   ],
   "source": [
    "#Create a players list without duplicates\n",
    "player_list=purchase_data[\"SN\"].unique()\n",
    "\n",
    "#Calculate length of list to determine total players\n",
    "total_players=pd.DataFrame({'Total Players':[len(player_list)]})\n",
    "total_players\n"
   ]
  },
  {
   "cell_type": "markdown",
   "metadata": {},
   "source": [
    "## Purchasing Analysis (Total)"
   ]
  },
  {
   "cell_type": "markdown",
   "metadata": {},
   "source": [
    "* Run basic calculations to obtain number of unique items, average price, etc.\n",
    "\n",
    "\n",
    "* Create a summary data frame to hold the results\n",
    "\n",
    "\n",
    "* Optional: give the displayed data cleaner formatting\n",
    "\n",
    "\n",
    "* Display the summary data frame\n"
   ]
  },
  {
   "cell_type": "code",
   "execution_count": 5,
   "metadata": {
    "scrolled": true
   },
   "outputs": [
    {
     "output_type": "execute_result",
     "data": {
      "text/plain": "<pandas.io.formats.style.Styler at 0x217df2b3788>",
      "text/html": "<style  type=\"text/css\" >\n</style><table id=\"T_59d402a4_fc6f_11ea_b123_dd70182cc887\" ><thead>    <tr>        <th class=\"blank level0\" ></th>        <th class=\"col_heading level0 col0\" >Number of Unique Items</th>        <th class=\"col_heading level0 col1\" >Average Price</th>        <th class=\"col_heading level0 col2\" >Number of Purchases</th>        <th class=\"col_heading level0 col3\" >Total Revenue</th>    </tr></thead><tbody>\n                <tr>\n                        <th id=\"T_59d402a4_fc6f_11ea_b123_dd70182cc887level0_row0\" class=\"row_heading level0 row0\" >0</th>\n                        <td id=\"T_59d402a4_fc6f_11ea_b123_dd70182cc887row0_col0\" class=\"data row0 col0\" >179</td>\n                        <td id=\"T_59d402a4_fc6f_11ea_b123_dd70182cc887row0_col1\" class=\"data row0 col1\" >$3.05</td>\n                        <td id=\"T_59d402a4_fc6f_11ea_b123_dd70182cc887row0_col2\" class=\"data row0 col2\" >780</td>\n                        <td id=\"T_59d402a4_fc6f_11ea_b123_dd70182cc887row0_col3\" class=\"data row0 col3\" >$2,379.77</td>\n            </tr>\n    </tbody></table>"
     },
     "metadata": {},
     "execution_count": 5
    }
   ],
   "source": [
    "#Run basic calculations to obtain number of unique items, average price, etc.\n",
    "ID_items=purchase_data[\"Item ID\"].unique()\n",
    "unique_items=len(ID_items)\n",
    "average_price=purchase_data[\"Price\"].mean()\n",
    "purchases=len(purchase_data[\"Purchase ID\"])\n",
    "total_revenue=purchase_data[\"Price\"].sum()\n",
    "\n",
    "#Create a summary data frame to hold the results \n",
    "purchasing_analysis=pd.DataFrame({'Number of Unique Items':[unique_items], \n",
    "            'Average Price':[average_price], \n",
    "            'Number of Purchases':[purchases],\n",
    "            'Total Revenue':[total_revenue]})\n",
    "\n",
    "#Give the displayed data cleaner formatting\n",
    "purchasing_analysis=purchasing_analysis.style.format({'Average Price':\"${:,.2f}\", 'Total Revenue':\"${:,.2f}\"})\n",
    "\n",
    "#Display the summary data frame\n",
    "purchasing_analysis"
   ]
  },
  {
   "cell_type": "markdown",
   "metadata": {},
   "source": [
    "## Gender Demographics"
   ]
  },
  {
   "cell_type": "markdown",
   "metadata": {},
   "source": [
    "* Percentage and Count of Male Players\n",
    "\n",
    "\n",
    "* Percentage and Count of Female Players\n",
    "\n",
    "\n",
    "* Percentage and Count of Other / Non-Disclosed\n",
    "\n",
    "\n"
   ]
  },
  {
   "cell_type": "code",
   "execution_count": 64,
   "metadata": {},
   "outputs": [
    {
     "output_type": "execute_result",
     "data": {
      "text/plain": "               Age  Gender\nSN                        \nAdairialis76    16    Male\nAdastirin33     35  Female\nAeda94          17    Male\nAela59          21    Male\nAelaria33       23    Male\n...            ...     ...\nYathecal82      20  Female\nYathedeu43      22    Male\nYoishirrala98   17  Female\nZhisrisu83      10    Male\nZontibe81       21    Male\n\n[576 rows x 2 columns]",
      "text/html": "<div>\n<style scoped>\n    .dataframe tbody tr th:only-of-type {\n        vertical-align: middle;\n    }\n\n    .dataframe tbody tr th {\n        vertical-align: top;\n    }\n\n    .dataframe thead th {\n        text-align: right;\n    }\n</style>\n<table border=\"1\" class=\"dataframe\">\n  <thead>\n    <tr style=\"text-align: right;\">\n      <th></th>\n      <th>Age</th>\n      <th>Gender</th>\n    </tr>\n    <tr>\n      <th>SN</th>\n      <th></th>\n      <th></th>\n    </tr>\n  </thead>\n  <tbody>\n    <tr>\n      <th>Adairialis76</th>\n      <td>16</td>\n      <td>Male</td>\n    </tr>\n    <tr>\n      <th>Adastirin33</th>\n      <td>35</td>\n      <td>Female</td>\n    </tr>\n    <tr>\n      <th>Aeda94</th>\n      <td>17</td>\n      <td>Male</td>\n    </tr>\n    <tr>\n      <th>Aela59</th>\n      <td>21</td>\n      <td>Male</td>\n    </tr>\n    <tr>\n      <th>Aelaria33</th>\n      <td>23</td>\n      <td>Male</td>\n    </tr>\n    <tr>\n      <th>...</th>\n      <td>...</td>\n      <td>...</td>\n    </tr>\n    <tr>\n      <th>Yathecal82</th>\n      <td>20</td>\n      <td>Female</td>\n    </tr>\n    <tr>\n      <th>Yathedeu43</th>\n      <td>22</td>\n      <td>Male</td>\n    </tr>\n    <tr>\n      <th>Yoishirrala98</th>\n      <td>17</td>\n      <td>Female</td>\n    </tr>\n    <tr>\n      <th>Zhisrisu83</th>\n      <td>10</td>\n      <td>Male</td>\n    </tr>\n    <tr>\n      <th>Zontibe81</th>\n      <td>21</td>\n      <td>Male</td>\n    </tr>\n  </tbody>\n</table>\n<p>576 rows × 2 columns</p>\n</div>"
     },
     "metadata": {},
     "execution_count": 64
    }
   ],
   "source": [
    "#Create a dataframe that removes duplicate SN's and holds corresponding age and gender\n",
    "players_gender_grouped=purchase_data.groupby([\"SN\"])\n",
    "players_gender=players_gender_grouped[\"Gender\"].min()\n",
    "players_age=players_gender_grouped[\"Age\"].min()\n",
    "players_age_gender=pd.merge(players_age, players_gender, on=\"SN\", how=\"outer\")\n",
    "players_age_gender\n"
   ]
  },
  {
   "cell_type": "code",
   "execution_count": 65,
   "metadata": {},
   "outputs": [
    {
     "output_type": "execute_result",
     "data": {
      "text/plain": "<pandas.io.formats.style.Styler at 0x217e2776a08>",
      "text/html": "<style  type=\"text/css\" >\n</style><table id=\"T_a0a64522_fc72_11ea_92cd_dd70182cc887\" ><thead>    <tr>        <th class=\"blank level0\" ></th>        <th class=\"col_heading level0 col0\" >Total Count</th>        <th class=\"col_heading level0 col1\" >Percentage of Players</th>    </tr></thead><tbody>\n                <tr>\n                        <th id=\"T_a0a64522_fc72_11ea_92cd_dd70182cc887level0_row0\" class=\"row_heading level0 row0\" >Male</th>\n                        <td id=\"T_a0a64522_fc72_11ea_92cd_dd70182cc887row0_col0\" class=\"data row0 col0\" >484</td>\n                        <td id=\"T_a0a64522_fc72_11ea_92cd_dd70182cc887row0_col1\" class=\"data row0 col1\" >84.03%</td>\n            </tr>\n            <tr>\n                        <th id=\"T_a0a64522_fc72_11ea_92cd_dd70182cc887level0_row1\" class=\"row_heading level0 row1\" >Female</th>\n                        <td id=\"T_a0a64522_fc72_11ea_92cd_dd70182cc887row1_col0\" class=\"data row1 col0\" >81</td>\n                        <td id=\"T_a0a64522_fc72_11ea_92cd_dd70182cc887row1_col1\" class=\"data row1 col1\" >14.06%</td>\n            </tr>\n            <tr>\n                        <th id=\"T_a0a64522_fc72_11ea_92cd_dd70182cc887level0_row2\" class=\"row_heading level0 row2\" >Other/Non-Disclosed</th>\n                        <td id=\"T_a0a64522_fc72_11ea_92cd_dd70182cc887row2_col0\" class=\"data row2 col0\" >11</td>\n                        <td id=\"T_a0a64522_fc72_11ea_92cd_dd70182cc887row2_col1\" class=\"data row2 col1\" >1.91%</td>\n            </tr>\n    </tbody></table>"
     },
     "metadata": {},
     "execution_count": 65
    }
   ],
   "source": [
    "#Calculate gender demographics\n",
    "gender=players_age_gender[\"Gender\"].value_counts()\n",
    "gender_count=players_age_gender[\"Gender\"].count()\n",
    "\n",
    "#Create dataframe that holds gender demographics\n",
    "gender_demographics=pd.DataFrame({'Total Count':[gender[0],gender[1],gender[2]],\n",
    "           'Percentage of Players':[((gender[0]/gender_count)*100), ((gender[1]/gender_count)*100), ((gender[2]/gender_count)*100)]},\n",
    "           index=[\"Male\", \"Female\", \"Other/Non-Disclosed\"])\n",
    "\n",
    "#Cleaner formatting\n",
    "gender_demographics=gender_demographics.style.format({'Percentage of Players':\"{:,.2f}%\"})\n",
    "\n",
    "#Display dataframe\n",
    "gender_demographics\n"
   ]
  },
  {
   "cell_type": "markdown",
   "metadata": {},
   "source": [
    "\n",
    "## Purchasing Analysis (Gender)"
   ]
  },
  {
   "cell_type": "markdown",
   "metadata": {},
   "source": [
    "* Run basic calculations to obtain purchase count, avg. purchase price, avg. purchase total per person etc. by gender\n",
    "\n",
    "\n",
    "\n",
    "\n",
    "* Create a summary data frame to hold the results\n",
    "\n",
    "\n",
    "* Optional: give the displayed data cleaner formatting\n",
    "\n",
    "\n",
    "* Display the summary data frame"
   ]
  },
  {
   "cell_type": "code",
   "execution_count": 66,
   "metadata": {},
   "outputs": [
    {
     "output_type": "execute_result",
     "data": {
      "text/plain": "<pandas.io.formats.style.Styler at 0x217e21f2c08>",
      "text/html": "<style  type=\"text/css\" >\n</style><table id=\"T_a105e340_fc72_11ea_9f34_dd70182cc887\" ><thead>    <tr>        <th class=\"blank level0\" ></th>        <th class=\"col_heading level0 col0\" >Purchase Count</th>        <th class=\"col_heading level0 col1\" >Average Purchase Price</th>        <th class=\"col_heading level0 col2\" >Total Purchase Value</th>        <th class=\"col_heading level0 col3\" >Average Total Purchase per Person</th>    </tr></thead><tbody>\n                <tr>\n                        <th id=\"T_a105e340_fc72_11ea_9f34_dd70182cc887level0_row0\" class=\"row_heading level0 row0\" >Female</th>\n                        <td id=\"T_a105e340_fc72_11ea_9f34_dd70182cc887row0_col0\" class=\"data row0 col0\" >113</td>\n                        <td id=\"T_a105e340_fc72_11ea_9f34_dd70182cc887row0_col1\" class=\"data row0 col1\" >$3.20</td>\n                        <td id=\"T_a105e340_fc72_11ea_9f34_dd70182cc887row0_col2\" class=\"data row0 col2\" >$361.94</td>\n                        <td id=\"T_a105e340_fc72_11ea_9f34_dd70182cc887row0_col3\" class=\"data row0 col3\" >$4.47</td>\n            </tr>\n            <tr>\n                        <th id=\"T_a105e340_fc72_11ea_9f34_dd70182cc887level0_row1\" class=\"row_heading level0 row1\" >Male</th>\n                        <td id=\"T_a105e340_fc72_11ea_9f34_dd70182cc887row1_col0\" class=\"data row1 col0\" >652</td>\n                        <td id=\"T_a105e340_fc72_11ea_9f34_dd70182cc887row1_col1\" class=\"data row1 col1\" >$3.02</td>\n                        <td id=\"T_a105e340_fc72_11ea_9f34_dd70182cc887row1_col2\" class=\"data row1 col2\" >$1,967.64</td>\n                        <td id=\"T_a105e340_fc72_11ea_9f34_dd70182cc887row1_col3\" class=\"data row1 col3\" >$4.07</td>\n            </tr>\n            <tr>\n                        <th id=\"T_a105e340_fc72_11ea_9f34_dd70182cc887level0_row2\" class=\"row_heading level0 row2\" >Other/Non-Disclosed</th>\n                        <td id=\"T_a105e340_fc72_11ea_9f34_dd70182cc887row2_col0\" class=\"data row2 col0\" >15</td>\n                        <td id=\"T_a105e340_fc72_11ea_9f34_dd70182cc887row2_col1\" class=\"data row2 col1\" >$3.35</td>\n                        <td id=\"T_a105e340_fc72_11ea_9f34_dd70182cc887row2_col2\" class=\"data row2 col2\" >$50.19</td>\n                        <td id=\"T_a105e340_fc72_11ea_9f34_dd70182cc887row2_col3\" class=\"data row2 col3\" >$4.56</td>\n            </tr>\n    </tbody></table>"
     },
     "metadata": {},
     "execution_count": 66
    }
   ],
   "source": [
    "#Create a dataframe that removes duplicate SN's and holds corresponding age and price\n",
    "players_gender_grouped=purchase_data.groupby([\"SN\"])\n",
    "players_gender=players_gender_grouped[\"Gender\"].min()\n",
    "players_price=players_gender_grouped[\"Price\"].min()\n",
    "players_age_price=pd.merge(players_price, players_gender, on=\"SN\", how=\"outer\")\n",
    "players_age_price\n",
    "\n",
    "#Calculate purchasing analysis (gender)\n",
    "gender=players_age_gender[\"Gender\"].value_counts()\n",
    "gender1=purchase_data[\"Gender\"].value_counts()\n",
    "grouped_gender=purchase_data.groupby([\"Gender\"])\n",
    "av_purchase_price=grouped_gender[\"Price\"].mean()\n",
    "total_purchase=grouped_gender[\"Price\"].sum()\n",
    "\n",
    "#Create dataframe holding purchasing analysis (gender)\n",
    "gender_analysis=pd.DataFrame({'Purchase Count':[gender1[1],gender1[0],gender1[2]],\n",
    "           'Average Purchase Price':[av_purchase_price[0], av_purchase_price[1], av_purchase_price[2]],\n",
    "           'Total Purchase Value':[total_purchase[0], total_purchase[1], total_purchase[2]],\n",
    "           'Average Total Purchase per Person':[total_purchase[0]/gender[1], total_purchase[1]/gender[0], total_purchase[2]/gender[2]]\n",
    "           },\n",
    "           index=[\"Female\", \"Male\", \"Other/Non-Disclosed\"])\n",
    "\n",
    "#Cleaner formatting\n",
    "gender_analysis=gender_analysis.style.format({'Average Purchase Price':\"${:,.2f}\", 'Total Purchase Value':\"${:,.2f}\", 'Average Total Purchase per Person':\"${:,.2f}\"})\n",
    "\n",
    "#Display dataframe\n",
    "gender_analysis\n"
   ]
  },
  {
   "cell_type": "markdown",
   "metadata": {},
   "source": [
    "## Age Demographics"
   ]
  },
  {
   "cell_type": "markdown",
   "metadata": {},
   "source": [
    "* Establish bins for ages\n",
    "\n",
    "\n",
    "* Categorize the existing players using the age bins. Hint: use pd.cut()\n",
    "\n",
    "\n",
    "* Calculate the numbers and percentages by age group\n",
    "\n",
    "\n",
    "* Create a summary data frame to hold the results\n",
    "\n",
    "\n",
    "* Optional: round the percentage column to two decimal points\n",
    "\n",
    "\n",
    "* Display Age Demographics Table\n"
   ]
  },
  {
   "cell_type": "code",
   "execution_count": 67,
   "metadata": {},
   "outputs": [
    {
     "output_type": "execute_result",
     "data": {
      "text/plain": "               Age  Gender Age Intervals\nSN                                      \nAdairialis76    16    Male         15-20\nAdastirin33     35  Female         35-40\nAeda94          17    Male         15-20\nAela59          21    Male         20-24\nAelaria33       23    Male         20-24\n...            ...     ...           ...\nYathecal82      20  Female         20-24\nYathedeu43      22    Male         20-24\nYoishirrala98   17  Female         15-20\nZhisrisu83      10    Male         10-14\nZontibe81       21    Male         20-24\n\n[576 rows x 3 columns]",
      "text/html": "<div>\n<style scoped>\n    .dataframe tbody tr th:only-of-type {\n        vertical-align: middle;\n    }\n\n    .dataframe tbody tr th {\n        vertical-align: top;\n    }\n\n    .dataframe thead th {\n        text-align: right;\n    }\n</style>\n<table border=\"1\" class=\"dataframe\">\n  <thead>\n    <tr style=\"text-align: right;\">\n      <th></th>\n      <th>Age</th>\n      <th>Gender</th>\n      <th>Age Intervals</th>\n    </tr>\n    <tr>\n      <th>SN</th>\n      <th></th>\n      <th></th>\n      <th></th>\n    </tr>\n  </thead>\n  <tbody>\n    <tr>\n      <th>Adairialis76</th>\n      <td>16</td>\n      <td>Male</td>\n      <td>15-20</td>\n    </tr>\n    <tr>\n      <th>Adastirin33</th>\n      <td>35</td>\n      <td>Female</td>\n      <td>35-40</td>\n    </tr>\n    <tr>\n      <th>Aeda94</th>\n      <td>17</td>\n      <td>Male</td>\n      <td>15-20</td>\n    </tr>\n    <tr>\n      <th>Aela59</th>\n      <td>21</td>\n      <td>Male</td>\n      <td>20-24</td>\n    </tr>\n    <tr>\n      <th>Aelaria33</th>\n      <td>23</td>\n      <td>Male</td>\n      <td>20-24</td>\n    </tr>\n    <tr>\n      <th>...</th>\n      <td>...</td>\n      <td>...</td>\n      <td>...</td>\n    </tr>\n    <tr>\n      <th>Yathecal82</th>\n      <td>20</td>\n      <td>Female</td>\n      <td>20-24</td>\n    </tr>\n    <tr>\n      <th>Yathedeu43</th>\n      <td>22</td>\n      <td>Male</td>\n      <td>20-24</td>\n    </tr>\n    <tr>\n      <th>Yoishirrala98</th>\n      <td>17</td>\n      <td>Female</td>\n      <td>15-20</td>\n    </tr>\n    <tr>\n      <th>Zhisrisu83</th>\n      <td>10</td>\n      <td>Male</td>\n      <td>10-14</td>\n    </tr>\n    <tr>\n      <th>Zontibe81</th>\n      <td>21</td>\n      <td>Male</td>\n      <td>20-24</td>\n    </tr>\n  </tbody>\n</table>\n<p>576 rows × 3 columns</p>\n</div>"
     },
     "metadata": {},
     "execution_count": 67
    }
   ],
   "source": [
    "#Catergorize players using age bins\n",
    "bins=[0,9,14,19,24,29,34,39,150]\n",
    "intervals=[\"<10\", \"10-14\", \"15-20\", \"20-24\", \"25-29\", \"30-34\", \"35-40\", \"40+\"]\n",
    "players_age_gender[\"Age Intervals\"]=pd.cut(players_age_gender[\"Age\"], bins, labels=intervals)\n",
    "players_age_gender\n"
   ]
  },
  {
   "cell_type": "code",
   "execution_count": 68,
   "metadata": {},
   "outputs": [
    {
     "output_type": "execute_result",
     "data": {
      "text/plain": "Age Intervals  Age Intervals\n<10            <10               17\n10-14          10-14             22\n15-20          15-20            107\n20-24          20-24            258\n25-29          25-29             77\n30-34          30-34             52\n35-40          35-40             31\n40+            40+               12\nName: Age Intervals, dtype: int64"
     },
     "metadata": {},
     "execution_count": 68
    }
   ],
   "source": [
    "#Calculate total count by age group\n",
    "players_age_gender=players_age_gender.groupby(\"Age Intervals\")\n",
    "interval_count=players_age_gender[\"Age Intervals\"].value_counts()\n",
    "interval_count\n"
   ]
  },
  {
   "cell_type": "code",
   "execution_count": 74,
   "metadata": {},
   "outputs": [
    {
     "output_type": "error",
     "ename": "SyntaxError",
     "evalue": "invalid syntax (<ipython-input-74-c26f7a9f58e5>, line 2)",
     "traceback": [
      "\u001b[1;36m  File \u001b[1;32m\"<ipython-input-74-c26f7a9f58e5>\"\u001b[1;36m, line \u001b[1;32m2\u001b[0m\n\u001b[1;33m    'Total Count':[interval counts[2]],\u001b[0m\n\u001b[1;37m                 ^\u001b[0m\n\u001b[1;31mSyntaxError\u001b[0m\u001b[1;31m:\u001b[0m invalid syntax\n"
     ]
    }
   ],
   "source": [
    "age_demographics=pd.DataFrame({'Age Intervals':[players_age_gender[\"Age Intervals\"],\n",
    "                               'Total Count':[interval counts[2]], \n",
    "                               'Percentage of Players': [((players_age_gender[2]/total_players)*100)] })\n",
    "age_demographics"
   ]
  },
  {
   "cell_type": "markdown",
   "metadata": {},
   "source": [
    "## Purchasing Analysis (Age)"
   ]
  },
  {
   "cell_type": "markdown",
   "metadata": {},
   "source": [
    "* Bin the purchase_data data frame by age\n",
    "\n",
    "\n",
    "* Run basic calculations to obtain purchase count, avg. purchase price, avg. purchase total per person etc. in the table below\n",
    "\n",
    "\n",
    "* Create a summary data frame to hold the results\n",
    "\n",
    "\n",
    "* Optional: give the displayed data cleaner formatting\n",
    "\n",
    "\n",
    "* Display the summary data frame"
   ]
  },
  {
   "cell_type": "code",
   "execution_count": 7,
   "metadata": {},
   "outputs": [
    {
     "data": {
      "text/html": [
       "<div>\n",
       "<style scoped>\n",
       "    .dataframe tbody tr th:only-of-type {\n",
       "        vertical-align: middle;\n",
       "    }\n",
       "\n",
       "    .dataframe tbody tr th {\n",
       "        vertical-align: top;\n",
       "    }\n",
       "\n",
       "    .dataframe thead th {\n",
       "        text-align: right;\n",
       "    }\n",
       "</style>\n",
       "<table border=\"1\" class=\"dataframe\">\n",
       "  <thead>\n",
       "    <tr style=\"text-align: right;\">\n",
       "      <th></th>\n",
       "      <th>Purchase Count</th>\n",
       "      <th>Average Purchase Price</th>\n",
       "      <th>Total Purchase Value</th>\n",
       "      <th>Avg Total Purchase per Person</th>\n",
       "    </tr>\n",
       "    <tr>\n",
       "      <th>Age Ranges</th>\n",
       "      <th></th>\n",
       "      <th></th>\n",
       "      <th></th>\n",
       "      <th></th>\n",
       "    </tr>\n",
       "  </thead>\n",
       "  <tbody>\n",
       "    <tr>\n",
       "      <th>&lt;10</th>\n",
       "      <td>23</td>\n",
       "      <td>$3.35</td>\n",
       "      <td>$77.13</td>\n",
       "      <td>$4.54</td>\n",
       "    </tr>\n",
       "    <tr>\n",
       "      <th>10-14</th>\n",
       "      <td>28</td>\n",
       "      <td>$2.96</td>\n",
       "      <td>$82.78</td>\n",
       "      <td>$3.76</td>\n",
       "    </tr>\n",
       "    <tr>\n",
       "      <th>15-19</th>\n",
       "      <td>136</td>\n",
       "      <td>$3.04</td>\n",
       "      <td>$412.89</td>\n",
       "      <td>$3.86</td>\n",
       "    </tr>\n",
       "    <tr>\n",
       "      <th>20-24</th>\n",
       "      <td>365</td>\n",
       "      <td>$3.05</td>\n",
       "      <td>$1,114.06</td>\n",
       "      <td>$4.32</td>\n",
       "    </tr>\n",
       "    <tr>\n",
       "      <th>25-29</th>\n",
       "      <td>101</td>\n",
       "      <td>$2.90</td>\n",
       "      <td>$293.00</td>\n",
       "      <td>$3.81</td>\n",
       "    </tr>\n",
       "    <tr>\n",
       "      <th>30-34</th>\n",
       "      <td>73</td>\n",
       "      <td>$2.93</td>\n",
       "      <td>$214.00</td>\n",
       "      <td>$4.12</td>\n",
       "    </tr>\n",
       "    <tr>\n",
       "      <th>35-39</th>\n",
       "      <td>41</td>\n",
       "      <td>$3.60</td>\n",
       "      <td>$147.67</td>\n",
       "      <td>$4.76</td>\n",
       "    </tr>\n",
       "    <tr>\n",
       "      <th>40+</th>\n",
       "      <td>13</td>\n",
       "      <td>$2.94</td>\n",
       "      <td>$38.24</td>\n",
       "      <td>$3.19</td>\n",
       "    </tr>\n",
       "  </tbody>\n",
       "</table>\n",
       "</div>"
      ],
      "text/plain": [
       "           Purchase Count Average Purchase Price Total Purchase Value  \\\n",
       "Age Ranges                                                              \n",
       "<10                    23                  $3.35               $77.13   \n",
       "10-14                  28                  $2.96               $82.78   \n",
       "15-19                 136                  $3.04              $412.89   \n",
       "20-24                 365                  $3.05            $1,114.06   \n",
       "25-29                 101                  $2.90              $293.00   \n",
       "30-34                  73                  $2.93              $214.00   \n",
       "35-39                  41                  $3.60              $147.67   \n",
       "40+                    13                  $2.94               $38.24   \n",
       "\n",
       "           Avg Total Purchase per Person  \n",
       "Age Ranges                                \n",
       "<10                                $4.54  \n",
       "10-14                              $3.76  \n",
       "15-19                              $3.86  \n",
       "20-24                              $4.32  \n",
       "25-29                              $3.81  \n",
       "30-34                              $4.12  \n",
       "35-39                              $4.76  \n",
       "40+                                $3.19  "
      ]
     },
     "execution_count": 7,
     "metadata": {},
     "output_type": "execute_result"
    }
   ],
   "source": []
  },
  {
   "cell_type": "markdown",
   "metadata": {},
   "source": [
    "## Top Spenders"
   ]
  },
  {
   "cell_type": "markdown",
   "metadata": {},
   "source": [
    "* Run basic calculations to obtain the results in the table below\n",
    "\n",
    "\n",
    "* Create a summary data frame to hold the results\n",
    "\n",
    "\n",
    "* Sort the total purchase value column in descending order\n",
    "\n",
    "\n",
    "* Optional: give the displayed data cleaner formatting\n",
    "\n",
    "\n",
    "* Display a preview of the summary data frame\n",
    "\n"
   ]
  },
  {
   "cell_type": "code",
   "execution_count": 96,
   "metadata": {},
   "outputs": [
    {
     "output_type": "execute_result",
     "data": {
      "text/plain": "<pandas.io.formats.style.Styler at 0x217e2219c48>",
      "text/html": "<style  type=\"text/css\" >\n</style><table id=\"T_1f870f76_fc81_11ea_b136_dd70182cc887\" ><thead>    <tr>        <th class=\"blank level0\" ></th>        <th class=\"col_heading level0 col0\" >Purchase Count</th>        <th class=\"col_heading level0 col1\" >Average Purchase Price</th>        <th class=\"col_heading level0 col2\" >Total Purchase Value</th>    </tr>    <tr>        <th class=\"index_name level0\" >SN</th>        <th class=\"blank\" ></th>        <th class=\"blank\" ></th>        <th class=\"blank\" ></th>    </tr></thead><tbody>\n                <tr>\n                        <th id=\"T_1f870f76_fc81_11ea_b136_dd70182cc887level0_row0\" class=\"row_heading level0 row0\" >Lisosia93</th>\n                        <td id=\"T_1f870f76_fc81_11ea_b136_dd70182cc887row0_col0\" class=\"data row0 col0\" >5</td>\n                        <td id=\"T_1f870f76_fc81_11ea_b136_dd70182cc887row0_col1\" class=\"data row0 col1\" >$3.79</td>\n                        <td id=\"T_1f870f76_fc81_11ea_b136_dd70182cc887row0_col2\" class=\"data row0 col2\" >$18.96</td>\n            </tr>\n            <tr>\n                        <th id=\"T_1f870f76_fc81_11ea_b136_dd70182cc887level0_row1\" class=\"row_heading level0 row1\" >Idastidru52</th>\n                        <td id=\"T_1f870f76_fc81_11ea_b136_dd70182cc887row1_col0\" class=\"data row1 col0\" >4</td>\n                        <td id=\"T_1f870f76_fc81_11ea_b136_dd70182cc887row1_col1\" class=\"data row1 col1\" >$3.86</td>\n                        <td id=\"T_1f870f76_fc81_11ea_b136_dd70182cc887row1_col2\" class=\"data row1 col2\" >$15.45</td>\n            </tr>\n            <tr>\n                        <th id=\"T_1f870f76_fc81_11ea_b136_dd70182cc887level0_row2\" class=\"row_heading level0 row2\" >Chamjask73</th>\n                        <td id=\"T_1f870f76_fc81_11ea_b136_dd70182cc887row2_col0\" class=\"data row2 col0\" >3</td>\n                        <td id=\"T_1f870f76_fc81_11ea_b136_dd70182cc887row2_col1\" class=\"data row2 col1\" >$4.61</td>\n                        <td id=\"T_1f870f76_fc81_11ea_b136_dd70182cc887row2_col2\" class=\"data row2 col2\" >$13.83</td>\n            </tr>\n            <tr>\n                        <th id=\"T_1f870f76_fc81_11ea_b136_dd70182cc887level0_row3\" class=\"row_heading level0 row3\" >Iral74</th>\n                        <td id=\"T_1f870f76_fc81_11ea_b136_dd70182cc887row3_col0\" class=\"data row3 col0\" >4</td>\n                        <td id=\"T_1f870f76_fc81_11ea_b136_dd70182cc887row3_col1\" class=\"data row3 col1\" >$3.40</td>\n                        <td id=\"T_1f870f76_fc81_11ea_b136_dd70182cc887row3_col2\" class=\"data row3 col2\" >$13.62</td>\n            </tr>\n            <tr>\n                        <th id=\"T_1f870f76_fc81_11ea_b136_dd70182cc887level0_row4\" class=\"row_heading level0 row4\" >Iskadarya95</th>\n                        <td id=\"T_1f870f76_fc81_11ea_b136_dd70182cc887row4_col0\" class=\"data row4 col0\" >3</td>\n                        <td id=\"T_1f870f76_fc81_11ea_b136_dd70182cc887row4_col1\" class=\"data row4 col1\" >$4.37</td>\n                        <td id=\"T_1f870f76_fc81_11ea_b136_dd70182cc887row4_col2\" class=\"data row4 col2\" >$13.10</td>\n            </tr>\n    </tbody></table>"
     },
     "metadata": {},
     "execution_count": 96
    }
   ],
   "source": [
    "#Create a dataframe with each players purchase count and total purchase value \n",
    "layers_gender_grouped=purchase_data.groupby([\"SN\"])\n",
    "players_ID=players_gender_grouped[\"Purchase ID\"].count()\n",
    "players_price=players_gender_grouped[\"Price\"].sum()\n",
    "players_ID_price=pd.merge(players_ID, players_price, on=\"SN\", how=\"outer\")\n",
    "\n",
    "#Sort data by most spent\n",
    "sorted_players_ID_price=players_ID_price.sort_values(by='Price', ascending=False)\n",
    "\n",
    "#Select the top 5 \n",
    "top_spenders=sorted_players_ID_price.iloc[0:5,0:2]\n",
    "\n",
    "#Add average purchase price \n",
    "top_spenders[\"Average Purchase Price\"]=top_spenders[\"Price\"]/top_spenders[\"Purchase ID\"]\n",
    "\n",
    "#Format\n",
    "top_spenders=top_spenders[[\"Purchase ID\", \"Average Purchase Price\", \"Price\"]]\n",
    "top_spenders=top_spenders.rename(columns={\"Purchase ID\":\"Purchase Count\", \"Price\":\"Total Purchase Value\"})\n",
    "top_spenders=top_spenders.style.format({'Average Purchase Price':\"${:,.2f}\", \"Total Purchase Value\":\"${:,.2f}\"})\n",
    "\n",
    "#Display\n",
    "top_spenders"
   ]
  },
  {
   "cell_type": "markdown",
   "metadata": {},
   "source": [
    "## Most Popular Items"
   ]
  },
  {
   "cell_type": "markdown",
   "metadata": {},
   "source": [
    "* Retrieve the Item ID, Item Name, and Item Price columns\n",
    "\n",
    "\n",
    "* Group by Item ID and Item Name. Perform calculations to obtain purchase count, item price, and total purchase value\n",
    "\n",
    "\n",
    "* Create a summary data frame to hold the results\n",
    "\n",
    "\n",
    "* Sort the purchase count column in descending order\n",
    "\n",
    "\n",
    "* Optional: give the displayed data cleaner formatting\n",
    "\n",
    "\n",
    "* Display a preview of the summary data frame\n",
    "\n"
   ]
  },
  {
   "cell_type": "code",
   "execution_count": 9,
   "metadata": {},
   "outputs": [
    {
     "data": {
      "text/html": [
       "<div>\n",
       "<style scoped>\n",
       "    .dataframe tbody tr th:only-of-type {\n",
       "        vertical-align: middle;\n",
       "    }\n",
       "\n",
       "    .dataframe tbody tr th {\n",
       "        vertical-align: top;\n",
       "    }\n",
       "\n",
       "    .dataframe thead th {\n",
       "        text-align: right;\n",
       "    }\n",
       "</style>\n",
       "<table border=\"1\" class=\"dataframe\">\n",
       "  <thead>\n",
       "    <tr style=\"text-align: right;\">\n",
       "      <th></th>\n",
       "      <th></th>\n",
       "      <th>Purchase Count</th>\n",
       "      <th>Item Price</th>\n",
       "      <th>Total Purchase Value</th>\n",
       "    </tr>\n",
       "    <tr>\n",
       "      <th>Item ID</th>\n",
       "      <th>Item Name</th>\n",
       "      <th></th>\n",
       "      <th></th>\n",
       "      <th></th>\n",
       "    </tr>\n",
       "  </thead>\n",
       "  <tbody>\n",
       "    <tr>\n",
       "      <th>92</th>\n",
       "      <th>Final Critic</th>\n",
       "      <td>13</td>\n",
       "      <td>$4.61</td>\n",
       "      <td>$59.99</td>\n",
       "    </tr>\n",
       "    <tr>\n",
       "      <th>178</th>\n",
       "      <th>Oathbreaker, Last Hope of the Breaking Storm</th>\n",
       "      <td>12</td>\n",
       "      <td>$4.23</td>\n",
       "      <td>$50.76</td>\n",
       "    </tr>\n",
       "    <tr>\n",
       "      <th>145</th>\n",
       "      <th>Fiery Glass Crusader</th>\n",
       "      <td>9</td>\n",
       "      <td>$4.58</td>\n",
       "      <td>$41.22</td>\n",
       "    </tr>\n",
       "    <tr>\n",
       "      <th>132</th>\n",
       "      <th>Persuasion</th>\n",
       "      <td>9</td>\n",
       "      <td>$3.22</td>\n",
       "      <td>$28.99</td>\n",
       "    </tr>\n",
       "    <tr>\n",
       "      <th>108</th>\n",
       "      <th>Extraction, Quickblade Of Trembling Hands</th>\n",
       "      <td>9</td>\n",
       "      <td>$3.53</td>\n",
       "      <td>$31.77</td>\n",
       "    </tr>\n",
       "  </tbody>\n",
       "</table>\n",
       "</div>"
      ],
      "text/plain": [
       "                                                     Purchase Count  \\\n",
       "Item ID Item Name                                                     \n",
       "92      Final Critic                                             13   \n",
       "178     Oathbreaker, Last Hope of the Breaking Storm             12   \n",
       "145     Fiery Glass Crusader                                      9   \n",
       "132     Persuasion                                                9   \n",
       "108     Extraction, Quickblade Of Trembling Hands                 9   \n",
       "\n",
       "                                                     Item Price  \\\n",
       "Item ID Item Name                                                 \n",
       "92      Final Critic                                      $4.61   \n",
       "178     Oathbreaker, Last Hope of the Breaking Storm      $4.23   \n",
       "145     Fiery Glass Crusader                              $4.58   \n",
       "132     Persuasion                                        $3.22   \n",
       "108     Extraction, Quickblade Of Trembling Hands         $3.53   \n",
       "\n",
       "                                                     Total Purchase Value  \n",
       "Item ID Item Name                                                          \n",
       "92      Final Critic                                               $59.99  \n",
       "178     Oathbreaker, Last Hope of the Breaking Storm               $50.76  \n",
       "145     Fiery Glass Crusader                                       $41.22  \n",
       "132     Persuasion                                                 $28.99  \n",
       "108     Extraction, Quickblade Of Trembling Hands                  $31.77  "
      ]
     },
     "execution_count": 9,
     "metadata": {},
     "output_type": "execute_result"
    }
   ],
   "source": []
  },
  {
   "cell_type": "markdown",
   "metadata": {},
   "source": [
    "## Most Profitable Items"
   ]
  },
  {
   "cell_type": "markdown",
   "metadata": {},
   "source": [
    "* Sort the above table by total purchase value in descending order\n",
    "\n",
    "\n",
    "* Optional: give the displayed data cleaner formatting\n",
    "\n",
    "\n",
    "* Display a preview of the data frame\n",
    "\n"
   ]
  },
  {
   "cell_type": "code",
   "execution_count": 10,
   "metadata": {
    "scrolled": true
   },
   "outputs": [
    {
     "data": {
      "text/html": [
       "<div>\n",
       "<style scoped>\n",
       "    .dataframe tbody tr th:only-of-type {\n",
       "        vertical-align: middle;\n",
       "    }\n",
       "\n",
       "    .dataframe tbody tr th {\n",
       "        vertical-align: top;\n",
       "    }\n",
       "\n",
       "    .dataframe thead th {\n",
       "        text-align: right;\n",
       "    }\n",
       "</style>\n",
       "<table border=\"1\" class=\"dataframe\">\n",
       "  <thead>\n",
       "    <tr style=\"text-align: right;\">\n",
       "      <th></th>\n",
       "      <th></th>\n",
       "      <th>Purchase Count</th>\n",
       "      <th>Item Price</th>\n",
       "      <th>Total Purchase Value</th>\n",
       "    </tr>\n",
       "    <tr>\n",
       "      <th>Item ID</th>\n",
       "      <th>Item Name</th>\n",
       "      <th></th>\n",
       "      <th></th>\n",
       "      <th></th>\n",
       "    </tr>\n",
       "  </thead>\n",
       "  <tbody>\n",
       "    <tr>\n",
       "      <th>92</th>\n",
       "      <th>Final Critic</th>\n",
       "      <td>13</td>\n",
       "      <td>$4.61</td>\n",
       "      <td>$59.99</td>\n",
       "    </tr>\n",
       "    <tr>\n",
       "      <th>178</th>\n",
       "      <th>Oathbreaker, Last Hope of the Breaking Storm</th>\n",
       "      <td>12</td>\n",
       "      <td>$4.23</td>\n",
       "      <td>$50.76</td>\n",
       "    </tr>\n",
       "    <tr>\n",
       "      <th>82</th>\n",
       "      <th>Nirvana</th>\n",
       "      <td>9</td>\n",
       "      <td>$4.90</td>\n",
       "      <td>$44.10</td>\n",
       "    </tr>\n",
       "    <tr>\n",
       "      <th>145</th>\n",
       "      <th>Fiery Glass Crusader</th>\n",
       "      <td>9</td>\n",
       "      <td>$4.58</td>\n",
       "      <td>$41.22</td>\n",
       "    </tr>\n",
       "    <tr>\n",
       "      <th>103</th>\n",
       "      <th>Singed Scalpel</th>\n",
       "      <td>8</td>\n",
       "      <td>$4.35</td>\n",
       "      <td>$34.80</td>\n",
       "    </tr>\n",
       "  </tbody>\n",
       "</table>\n",
       "</div>"
      ],
      "text/plain": [
       "                                                     Purchase Count  \\\n",
       "Item ID Item Name                                                     \n",
       "92      Final Critic                                             13   \n",
       "178     Oathbreaker, Last Hope of the Breaking Storm             12   \n",
       "82      Nirvana                                                   9   \n",
       "145     Fiery Glass Crusader                                      9   \n",
       "103     Singed Scalpel                                            8   \n",
       "\n",
       "                                                     Item Price  \\\n",
       "Item ID Item Name                                                 \n",
       "92      Final Critic                                      $4.61   \n",
       "178     Oathbreaker, Last Hope of the Breaking Storm      $4.23   \n",
       "82      Nirvana                                           $4.90   \n",
       "145     Fiery Glass Crusader                              $4.58   \n",
       "103     Singed Scalpel                                    $4.35   \n",
       "\n",
       "                                                     Total Purchase Value  \n",
       "Item ID Item Name                                                          \n",
       "92      Final Critic                                               $59.99  \n",
       "178     Oathbreaker, Last Hope of the Breaking Storm               $50.76  \n",
       "82      Nirvana                                                    $44.10  \n",
       "145     Fiery Glass Crusader                                       $41.22  \n",
       "103     Singed Scalpel                                             $34.80  "
      ]
     },
     "execution_count": 10,
     "metadata": {},
     "output_type": "execute_result"
    }
   ],
   "source": []
  }
 ],
 "metadata": {
  "anaconda-cloud": {},
  "kernel_info": {
   "name": "python3"
  },
  "kernelspec": {
   "display_name": "Python 3",
   "language": "python",
   "name": "python3"
  },
  "language_info": {
   "codemirror_mode": {
    "name": "ipython",
    "version": 3
   },
   "file_extension": ".py",
   "mimetype": "text/x-python",
   "name": "python",
   "nbconvert_exporter": "python",
   "pygments_lexer": "ipython3",
   "version": "3.7.6-final"
  },
  "latex_envs": {
   "LaTeX_envs_menu_present": true,
   "autoclose": false,
   "autocomplete": true,
   "bibliofile": "biblio.bib",
   "cite_by": "apalike",
   "current_citInitial": 1,
   "eqLabelWithNumbers": true,
   "eqNumInitial": 1,
   "hotkeys": {
    "equation": "Ctrl-E",
    "itemize": "Ctrl-I"
   },
   "labels_anchors": false,
   "latex_user_defs": false,
   "report_style_numbering": false,
   "user_envs_cfg": false
  },
  "nteract": {
   "version": "0.2.0"
  }
 },
 "nbformat": 4,
 "nbformat_minor": 2
}