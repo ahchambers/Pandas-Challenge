{
 "cells": [
  {
   "cell_type": "code",
   "execution_count": 451,
   "metadata": {},
   "outputs": [
    {
     "output_type": "execute_result",
     "data": {
      "text/plain": "     Purchase ID             SN  Age  Gender  Item ID  \\\n0              0        Lisim78   20    Male      108   \n1              1    Lisovynya38   40    Male      143   \n2              2     Ithergue48   24    Male       92   \n3              3  Chamassasya86   24    Male      100   \n4              4      Iskosia90   23    Male      131   \n..           ...            ...  ...     ...      ...   \n775          775     Aethedru70   21  Female       60   \n776          776         Iral74   21    Male      164   \n777          777     Yathecal72   20    Male       67   \n778          778        Sisur91    7    Male       92   \n779          779      Ennrian78   24    Male       50   \n\n                                     Item Name  Price  \n0    Extraction, Quickblade Of Trembling Hands   3.53  \n1                            Frenzied Scimitar   1.56  \n2                                 Final Critic   4.88  \n3                                  Blindscythe   3.27  \n4                                         Fury   1.44  \n..                                         ...    ...  \n775                                       Wolf   3.54  \n776                           Exiled Doomblade   1.63  \n777      Celeste, Incarnation of the Corrupted   3.46  \n778                               Final Critic   4.19  \n779                                       Dawn   4.60  \n\n[780 rows x 7 columns]",
      "text/html": "<div>\n<style scoped>\n    .dataframe tbody tr th:only-of-type {\n        vertical-align: middle;\n    }\n\n    .dataframe tbody tr th {\n        vertical-align: top;\n    }\n\n    .dataframe thead th {\n        text-align: right;\n    }\n</style>\n<table border=\"1\" class=\"dataframe\">\n  <thead>\n    <tr style=\"text-align: right;\">\n      <th></th>\n      <th>Purchase ID</th>\n      <th>SN</th>\n      <th>Age</th>\n      <th>Gender</th>\n      <th>Item ID</th>\n      <th>Item Name</th>\n      <th>Price</th>\n    </tr>\n  </thead>\n  <tbody>\n    <tr>\n      <th>0</th>\n      <td>0</td>\n      <td>Lisim78</td>\n      <td>20</td>\n      <td>Male</td>\n      <td>108</td>\n      <td>Extraction, Quickblade Of Trembling Hands</td>\n      <td>3.53</td>\n    </tr>\n    <tr>\n      <th>1</th>\n      <td>1</td>\n      <td>Lisovynya38</td>\n      <td>40</td>\n      <td>Male</td>\n      <td>143</td>\n      <td>Frenzied Scimitar</td>\n      <td>1.56</td>\n    </tr>\n    <tr>\n      <th>2</th>\n      <td>2</td>\n      <td>Ithergue48</td>\n      <td>24</td>\n      <td>Male</td>\n      <td>92</td>\n      <td>Final Critic</td>\n      <td>4.88</td>\n    </tr>\n    <tr>\n      <th>3</th>\n      <td>3</td>\n      <td>Chamassasya86</td>\n      <td>24</td>\n      <td>Male</td>\n      <td>100</td>\n      <td>Blindscythe</td>\n      <td>3.27</td>\n    </tr>\n    <tr>\n      <th>4</th>\n      <td>4</td>\n      <td>Iskosia90</td>\n      <td>23</td>\n      <td>Male</td>\n      <td>131</td>\n      <td>Fury</td>\n      <td>1.44</td>\n    </tr>\n    <tr>\n      <th>...</th>\n      <td>...</td>\n      <td>...</td>\n      <td>...</td>\n      <td>...</td>\n      <td>...</td>\n      <td>...</td>\n      <td>...</td>\n    </tr>\n    <tr>\n      <th>775</th>\n      <td>775</td>\n      <td>Aethedru70</td>\n      <td>21</td>\n      <td>Female</td>\n      <td>60</td>\n      <td>Wolf</td>\n      <td>3.54</td>\n    </tr>\n    <tr>\n      <th>776</th>\n      <td>776</td>\n      <td>Iral74</td>\n      <td>21</td>\n      <td>Male</td>\n      <td>164</td>\n      <td>Exiled Doomblade</td>\n      <td>1.63</td>\n    </tr>\n    <tr>\n      <th>777</th>\n      <td>777</td>\n      <td>Yathecal72</td>\n      <td>20</td>\n      <td>Male</td>\n      <td>67</td>\n      <td>Celeste, Incarnation of the Corrupted</td>\n      <td>3.46</td>\n    </tr>\n    <tr>\n      <th>778</th>\n      <td>778</td>\n      <td>Sisur91</td>\n      <td>7</td>\n      <td>Male</td>\n      <td>92</td>\n      <td>Final Critic</td>\n      <td>4.19</td>\n    </tr>\n    <tr>\n      <th>779</th>\n      <td>779</td>\n      <td>Ennrian78</td>\n      <td>24</td>\n      <td>Male</td>\n      <td>50</td>\n      <td>Dawn</td>\n      <td>4.60</td>\n    </tr>\n  </tbody>\n</table>\n<p>780 rows × 7 columns</p>\n</div>"
     },
     "metadata": {},
     "execution_count": 451
    }
   ],
   "source": [
    "# Dependencies and Setup\n",
    "import pandas as pd\n",
    "\n",
    "# File to Load (Remember to Change These)\n",
    "file_to_load = \"Resources/purchase_data.csv\"\n",
    "\n",
    "# Read Purchasing File and store into Pandas data frame\n",
    "purchase_data = pd.read_csv(file_to_load)\n",
    "purchase_data"
   ]
  },
  {
   "cell_type": "markdown",
   "metadata": {},
   "source": [
    "## Player Count"
   ]
  },
  {
   "cell_type": "markdown",
   "metadata": {},
   "source": [
    "* Display the total number of players\n"
   ]
  },
  {
   "cell_type": "code",
   "execution_count": 452,
   "metadata": {},
   "outputs": [
    {
     "output_type": "execute_result",
     "data": {
      "text/plain": "   Total Players\n0            576",
      "text/html": "<div>\n<style scoped>\n    .dataframe tbody tr th:only-of-type {\n        vertical-align: middle;\n    }\n\n    .dataframe tbody tr th {\n        vertical-align: top;\n    }\n\n    .dataframe thead th {\n        text-align: right;\n    }\n</style>\n<table border=\"1\" class=\"dataframe\">\n  <thead>\n    <tr style=\"text-align: right;\">\n      <th></th>\n      <th>Total Players</th>\n    </tr>\n  </thead>\n  <tbody>\n    <tr>\n      <th>0</th>\n      <td>576</td>\n    </tr>\n  </tbody>\n</table>\n</div>"
     },
     "metadata": {},
     "execution_count": 452
    }
   ],
   "source": [
    "#Create a players list without duplicates\n",
    "player_list=purchase_data[\"SN\"].unique()\n",
    "\n",
    "#Calculate length of list to determine total players\n",
    "total_players=pd.DataFrame({'Total Players':[len(player_list)]})\n",
    "total_players\n"
   ]
  },
  {
   "cell_type": "markdown",
   "metadata": {},
   "source": [
    "## Purchasing Analysis (Total)"
   ]
  },
  {
   "cell_type": "markdown",
   "metadata": {},
   "source": [
    "* Run basic calculations to obtain number of unique items, average price, etc.\n",
    "\n",
    "\n",
    "* Create a summary data frame to hold the results\n",
    "\n",
    "\n",
    "* Optional: give the displayed data cleaner formatting\n",
    "\n",
    "\n",
    "* Display the summary data frame\n"
   ]
  },
  {
   "cell_type": "code",
   "execution_count": 453,
   "metadata": {
    "scrolled": true
   },
   "outputs": [
    {
     "output_type": "execute_result",
     "data": {
      "text/plain": "<pandas.io.formats.style.Styler at 0x217e55dfa48>",
      "text/html": "<style  type=\"text/css\" >\n</style><table id=\"T_ceab8840_ff1c_11ea_a9bb_dd70182cc887\" ><thead>    <tr>        <th class=\"blank level0\" ></th>        <th class=\"col_heading level0 col0\" >Number of Unique Items</th>        <th class=\"col_heading level0 col1\" >Average Price</th>        <th class=\"col_heading level0 col2\" >Number of Purchases</th>        <th class=\"col_heading level0 col3\" >Total Revenue</th>    </tr></thead><tbody>\n                <tr>\n                        <th id=\"T_ceab8840_ff1c_11ea_a9bb_dd70182cc887level0_row0\" class=\"row_heading level0 row0\" >0</th>\n                        <td id=\"T_ceab8840_ff1c_11ea_a9bb_dd70182cc887row0_col0\" class=\"data row0 col0\" >179</td>\n                        <td id=\"T_ceab8840_ff1c_11ea_a9bb_dd70182cc887row0_col1\" class=\"data row0 col1\" >$3.05</td>\n                        <td id=\"T_ceab8840_ff1c_11ea_a9bb_dd70182cc887row0_col2\" class=\"data row0 col2\" >780</td>\n                        <td id=\"T_ceab8840_ff1c_11ea_a9bb_dd70182cc887row0_col3\" class=\"data row0 col3\" >$2,379.77</td>\n            </tr>\n    </tbody></table>"
     },
     "metadata": {},
     "execution_count": 453
    }
   ],
   "source": [
    "#Run basic calculations to obtain number of unique items, average price, etc.\n",
    "ID_items=purchase_data[\"Item ID\"].unique()\n",
    "unique_items=len(ID_items)\n",
    "average_price=purchase_data[\"Price\"].mean()\n",
    "purchases=len(purchase_data[\"Purchase ID\"])\n",
    "total_revenue=purchase_data[\"Price\"].sum()\n",
    "\n",
    "#Create a summary data frame to hold the results \n",
    "purchasing_analysis=pd.DataFrame({'Number of Unique Items':[unique_items], \n",
    "            'Average Price':[average_price], \n",
    "            'Number of Purchases':[purchases],\n",
    "            'Total Revenue':[total_revenue]})\n",
    "\n",
    "#Give the displayed data cleaner formatting\n",
    "purchasing_analysis=purchasing_analysis.style.format({'Average Price':\"${:,.2f}\", 'Total Revenue':\"${:,.2f}\"})\n",
    "\n",
    "#Display the summary data frame\n",
    "purchasing_analysis"
   ]
  },
  {
   "cell_type": "markdown",
   "metadata": {},
   "source": [
    "## Gender Demographics"
   ]
  },
  {
   "cell_type": "markdown",
   "metadata": {},
   "source": [
    "* Percentage and Count of Male Players\n",
    "\n",
    "\n",
    "* Percentage and Count of Female Players\n",
    "\n",
    "\n",
    "* Percentage and Count of Other / Non-Disclosed\n",
    "\n",
    "\n"
   ]
  },
  {
   "cell_type": "code",
   "execution_count": 454,
   "metadata": {},
   "outputs": [
    {
     "output_type": "execute_result",
     "data": {
      "text/plain": "               Age  Gender\nSN                        \nAdairialis76    16    Male\nAdastirin33     35  Female\nAeda94          17    Male\nAela59          21    Male\nAelaria33       23    Male\n...            ...     ...\nYathecal82      20  Female\nYathedeu43      22    Male\nYoishirrala98   17  Female\nZhisrisu83      10    Male\nZontibe81       21    Male\n\n[576 rows x 2 columns]",
      "text/html": "<div>\n<style scoped>\n    .dataframe tbody tr th:only-of-type {\n        vertical-align: middle;\n    }\n\n    .dataframe tbody tr th {\n        vertical-align: top;\n    }\n\n    .dataframe thead th {\n        text-align: right;\n    }\n</style>\n<table border=\"1\" class=\"dataframe\">\n  <thead>\n    <tr style=\"text-align: right;\">\n      <th></th>\n      <th>Age</th>\n      <th>Gender</th>\n    </tr>\n    <tr>\n      <th>SN</th>\n      <th></th>\n      <th></th>\n    </tr>\n  </thead>\n  <tbody>\n    <tr>\n      <th>Adairialis76</th>\n      <td>16</td>\n      <td>Male</td>\n    </tr>\n    <tr>\n      <th>Adastirin33</th>\n      <td>35</td>\n      <td>Female</td>\n    </tr>\n    <tr>\n      <th>Aeda94</th>\n      <td>17</td>\n      <td>Male</td>\n    </tr>\n    <tr>\n      <th>Aela59</th>\n      <td>21</td>\n      <td>Male</td>\n    </tr>\n    <tr>\n      <th>Aelaria33</th>\n      <td>23</td>\n      <td>Male</td>\n    </tr>\n    <tr>\n      <th>...</th>\n      <td>...</td>\n      <td>...</td>\n    </tr>\n    <tr>\n      <th>Yathecal82</th>\n      <td>20</td>\n      <td>Female</td>\n    </tr>\n    <tr>\n      <th>Yathedeu43</th>\n      <td>22</td>\n      <td>Male</td>\n    </tr>\n    <tr>\n      <th>Yoishirrala98</th>\n      <td>17</td>\n      <td>Female</td>\n    </tr>\n    <tr>\n      <th>Zhisrisu83</th>\n      <td>10</td>\n      <td>Male</td>\n    </tr>\n    <tr>\n      <th>Zontibe81</th>\n      <td>21</td>\n      <td>Male</td>\n    </tr>\n  </tbody>\n</table>\n<p>576 rows × 2 columns</p>\n</div>"
     },
     "metadata": {},
     "execution_count": 454
    }
   ],
   "source": [
    "#Create a dataframe that removes duplicate SN's and holds corresponding age and gender\n",
    "players_gender_grouped=purchase_data.groupby([\"SN\"])\n",
    "players_gender=players_gender_grouped[\"Gender\"].min()\n",
    "players_age=players_gender_grouped[\"Age\"].min()\n",
    "players_age_gender=pd.merge(players_age, players_gender, on=\"SN\", how=\"outer\")\n",
    "players_age_gender\n"
   ]
  },
  {
   "cell_type": "code",
   "execution_count": 455,
   "metadata": {},
   "outputs": [
    {
     "output_type": "execute_result",
     "data": {
      "text/plain": "<pandas.io.formats.style.Styler at 0x217e55d2d48>",
      "text/html": "<style  type=\"text/css\" >\n</style><table id=\"T_cf0d0738_ff1c_11ea_b2fe_dd70182cc887\" ><thead>    <tr>        <th class=\"blank level0\" ></th>        <th class=\"col_heading level0 col0\" >Total Count</th>        <th class=\"col_heading level0 col1\" >Percentage of Players</th>    </tr></thead><tbody>\n                <tr>\n                        <th id=\"T_cf0d0738_ff1c_11ea_b2fe_dd70182cc887level0_row0\" class=\"row_heading level0 row0\" >Male</th>\n                        <td id=\"T_cf0d0738_ff1c_11ea_b2fe_dd70182cc887row0_col0\" class=\"data row0 col0\" >484</td>\n                        <td id=\"T_cf0d0738_ff1c_11ea_b2fe_dd70182cc887row0_col1\" class=\"data row0 col1\" >84.03%</td>\n            </tr>\n            <tr>\n                        <th id=\"T_cf0d0738_ff1c_11ea_b2fe_dd70182cc887level0_row1\" class=\"row_heading level0 row1\" >Female</th>\n                        <td id=\"T_cf0d0738_ff1c_11ea_b2fe_dd70182cc887row1_col0\" class=\"data row1 col0\" >81</td>\n                        <td id=\"T_cf0d0738_ff1c_11ea_b2fe_dd70182cc887row1_col1\" class=\"data row1 col1\" >14.06%</td>\n            </tr>\n            <tr>\n                        <th id=\"T_cf0d0738_ff1c_11ea_b2fe_dd70182cc887level0_row2\" class=\"row_heading level0 row2\" >Other/Non-Disclosed</th>\n                        <td id=\"T_cf0d0738_ff1c_11ea_b2fe_dd70182cc887row2_col0\" class=\"data row2 col0\" >11</td>\n                        <td id=\"T_cf0d0738_ff1c_11ea_b2fe_dd70182cc887row2_col1\" class=\"data row2 col1\" >1.91%</td>\n            </tr>\n    </tbody></table>"
     },
     "metadata": {},
     "execution_count": 455
    }
   ],
   "source": [
    "#Calculate gender demographics\n",
    "gender=players_age_gender[\"Gender\"].value_counts()\n",
    "gender_count=players_age_gender[\"Gender\"].count()\n",
    "\n",
    "#Create dataframe that holds gender demographics\n",
    "gender_demographics=pd.DataFrame({'Total Count':[gender[0],gender[1],gender[2]],\n",
    "           'Percentage of Players':[((gender[0]/gender_count)*100), ((gender[1]/gender_count)*100), ((gender[2]/gender_count)*100)]},\n",
    "           index=[\"Male\", \"Female\", \"Other/Non-Disclosed\"])\n",
    "\n",
    "#Cleaner formatting\n",
    "gender_demographics=gender_demographics.style.format({'Percentage of Players':\"{:,.2f}%\"})\n",
    "\n",
    "#Display dataframe\n",
    "gender_demographics\n"
   ]
  },
  {
   "cell_type": "markdown",
   "metadata": {},
   "source": [
    "\n",
    "## Purchasing Analysis (Gender)"
   ]
  },
  {
   "cell_type": "markdown",
   "metadata": {},
   "source": [
    "* Run basic calculations to obtain purchase count, avg. purchase price, avg. purchase total per person etc. by gender\n",
    "\n",
    "\n",
    "\n",
    "\n",
    "* Create a summary data frame to hold the results\n",
    "\n",
    "\n",
    "* Optional: give the displayed data cleaner formatting\n",
    "\n",
    "\n",
    "* Display the summary data frame"
   ]
  },
  {
   "cell_type": "code",
   "execution_count": 456,
   "metadata": {},
   "outputs": [
    {
     "output_type": "execute_result",
     "data": {
      "text/plain": "<pandas.io.formats.style.Styler at 0x217e55d8908>",
      "text/html": "<style  type=\"text/css\" >\n</style><table id=\"T_cf60e542_ff1c_11ea_a5ad_dd70182cc887\" ><thead>    <tr>        <th class=\"blank level0\" ></th>        <th class=\"col_heading level0 col0\" >Purchase Count</th>        <th class=\"col_heading level0 col1\" >Average Purchase Price</th>        <th class=\"col_heading level0 col2\" >Total Purchase Value</th>        <th class=\"col_heading level0 col3\" >Average Total Purchase per Person</th>    </tr></thead><tbody>\n                <tr>\n                        <th id=\"T_cf60e542_ff1c_11ea_a5ad_dd70182cc887level0_row0\" class=\"row_heading level0 row0\" >Female</th>\n                        <td id=\"T_cf60e542_ff1c_11ea_a5ad_dd70182cc887row0_col0\" class=\"data row0 col0\" >113</td>\n                        <td id=\"T_cf60e542_ff1c_11ea_a5ad_dd70182cc887row0_col1\" class=\"data row0 col1\" >$3.20</td>\n                        <td id=\"T_cf60e542_ff1c_11ea_a5ad_dd70182cc887row0_col2\" class=\"data row0 col2\" >$361.94</td>\n                        <td id=\"T_cf60e542_ff1c_11ea_a5ad_dd70182cc887row0_col3\" class=\"data row0 col3\" >$4.47</td>\n            </tr>\n            <tr>\n                        <th id=\"T_cf60e542_ff1c_11ea_a5ad_dd70182cc887level0_row1\" class=\"row_heading level0 row1\" >Male</th>\n                        <td id=\"T_cf60e542_ff1c_11ea_a5ad_dd70182cc887row1_col0\" class=\"data row1 col0\" >652</td>\n                        <td id=\"T_cf60e542_ff1c_11ea_a5ad_dd70182cc887row1_col1\" class=\"data row1 col1\" >$3.02</td>\n                        <td id=\"T_cf60e542_ff1c_11ea_a5ad_dd70182cc887row1_col2\" class=\"data row1 col2\" >$1,967.64</td>\n                        <td id=\"T_cf60e542_ff1c_11ea_a5ad_dd70182cc887row1_col3\" class=\"data row1 col3\" >$4.07</td>\n            </tr>\n            <tr>\n                        <th id=\"T_cf60e542_ff1c_11ea_a5ad_dd70182cc887level0_row2\" class=\"row_heading level0 row2\" >Other/Non-Disclosed</th>\n                        <td id=\"T_cf60e542_ff1c_11ea_a5ad_dd70182cc887row2_col0\" class=\"data row2 col0\" >15</td>\n                        <td id=\"T_cf60e542_ff1c_11ea_a5ad_dd70182cc887row2_col1\" class=\"data row2 col1\" >$3.35</td>\n                        <td id=\"T_cf60e542_ff1c_11ea_a5ad_dd70182cc887row2_col2\" class=\"data row2 col2\" >$50.19</td>\n                        <td id=\"T_cf60e542_ff1c_11ea_a5ad_dd70182cc887row2_col3\" class=\"data row2 col3\" >$4.56</td>\n            </tr>\n    </tbody></table>"
     },
     "metadata": {},
     "execution_count": 456
    }
   ],
   "source": [
    "#Create a dataframe that removes duplicate SN's and holds corresponding age and price\n",
    "players_gender_grouped=purchase_data.groupby([\"SN\"])\n",
    "players_gender=players_gender_grouped[\"Gender\"].min()\n",
    "players_price=players_gender_grouped[\"Price\"].min()\n",
    "players_age_price=pd.merge(players_price, players_gender, on=\"SN\", how=\"outer\")\n",
    "players_age_price\n",
    "\n",
    "#Calculate purchasing analysis (gender)\n",
    "gender=players_age_gender[\"Gender\"].value_counts()\n",
    "gender1=purchase_data[\"Gender\"].value_counts()\n",
    "grouped_gender=purchase_data.groupby([\"Gender\"])\n",
    "av_purchase_price=grouped_gender[\"Price\"].mean()\n",
    "total_purchase=grouped_gender[\"Price\"].sum()\n",
    "\n",
    "#Create dataframe holding purchasing analysis (gender)\n",
    "gender_analysis=pd.DataFrame({'Purchase Count':[gender1[1],gender1[0],gender1[2]],\n",
    "           'Average Purchase Price':[av_purchase_price[0], av_purchase_price[1], av_purchase_price[2]],\n",
    "           'Total Purchase Value':[total_purchase[0], total_purchase[1], total_purchase[2]],\n",
    "           'Average Total Purchase per Person':[total_purchase[0]/gender[1], total_purchase[1]/gender[0], total_purchase[2]/gender[2]]\n",
    "           },\n",
    "           index=[\"Female\", \"Male\", \"Other/Non-Disclosed\"])\n",
    "\n",
    "#Cleaner formatting\n",
    "gender_analysis=gender_analysis.style.format({'Average Purchase Price':\"${:,.2f}\", 'Total Purchase Value':\"${:,.2f}\", 'Average Total Purchase per Person':\"${:,.2f}\"})\n",
    "\n",
    "#Display dataframe\n",
    "gender_analysis\n"
   ]
  },
  {
   "cell_type": "markdown",
   "metadata": {},
   "source": [
    "## Age Demographics"
   ]
  },
  {
   "cell_type": "markdown",
   "metadata": {},
   "source": [
    "* Establish bins for ages\n",
    "\n",
    "\n",
    "* Categorize the existing players using the age bins. Hint: use pd.cut()\n",
    "\n",
    "\n",
    "* Calculate the numbers and percentages by age group\n",
    "\n",
    "\n",
    "* Create a summary data frame to hold the results\n",
    "\n",
    "\n",
    "* Optional: round the percentage column to two decimal points\n",
    "\n",
    "\n",
    "* Display Age Demographics Table\n"
   ]
  },
  {
   "cell_type": "code",
   "execution_count": 457,
   "metadata": {},
   "outputs": [
    {
     "output_type": "execute_result",
     "data": {
      "text/plain": "               Age  Gender Age Intervals\nSN                                      \nAdairialis76    16    Male         15-20\nAdastirin33     35  Female         35-40\nAeda94          17    Male         15-20\nAela59          21    Male         20-24\nAelaria33       23    Male         20-24\n...            ...     ...           ...\nYathecal82      20  Female         20-24\nYathedeu43      22    Male         20-24\nYoishirrala98   17  Female         15-20\nZhisrisu83      10    Male         10-14\nZontibe81       21    Male         20-24\n\n[576 rows x 3 columns]",
      "text/html": "<div>\n<style scoped>\n    .dataframe tbody tr th:only-of-type {\n        vertical-align: middle;\n    }\n\n    .dataframe tbody tr th {\n        vertical-align: top;\n    }\n\n    .dataframe thead th {\n        text-align: right;\n    }\n</style>\n<table border=\"1\" class=\"dataframe\">\n  <thead>\n    <tr style=\"text-align: right;\">\n      <th></th>\n      <th>Age</th>\n      <th>Gender</th>\n      <th>Age Intervals</th>\n    </tr>\n    <tr>\n      <th>SN</th>\n      <th></th>\n      <th></th>\n      <th></th>\n    </tr>\n  </thead>\n  <tbody>\n    <tr>\n      <th>Adairialis76</th>\n      <td>16</td>\n      <td>Male</td>\n      <td>15-20</td>\n    </tr>\n    <tr>\n      <th>Adastirin33</th>\n      <td>35</td>\n      <td>Female</td>\n      <td>35-40</td>\n    </tr>\n    <tr>\n      <th>Aeda94</th>\n      <td>17</td>\n      <td>Male</td>\n      <td>15-20</td>\n    </tr>\n    <tr>\n      <th>Aela59</th>\n      <td>21</td>\n      <td>Male</td>\n      <td>20-24</td>\n    </tr>\n    <tr>\n      <th>Aelaria33</th>\n      <td>23</td>\n      <td>Male</td>\n      <td>20-24</td>\n    </tr>\n    <tr>\n      <th>...</th>\n      <td>...</td>\n      <td>...</td>\n      <td>...</td>\n    </tr>\n    <tr>\n      <th>Yathecal82</th>\n      <td>20</td>\n      <td>Female</td>\n      <td>20-24</td>\n    </tr>\n    <tr>\n      <th>Yathedeu43</th>\n      <td>22</td>\n      <td>Male</td>\n      <td>20-24</td>\n    </tr>\n    <tr>\n      <th>Yoishirrala98</th>\n      <td>17</td>\n      <td>Female</td>\n      <td>15-20</td>\n    </tr>\n    <tr>\n      <th>Zhisrisu83</th>\n      <td>10</td>\n      <td>Male</td>\n      <td>10-14</td>\n    </tr>\n    <tr>\n      <th>Zontibe81</th>\n      <td>21</td>\n      <td>Male</td>\n      <td>20-24</td>\n    </tr>\n  </tbody>\n</table>\n<p>576 rows × 3 columns</p>\n</div>"
     },
     "metadata": {},
     "execution_count": 457
    }
   ],
   "source": [
    "#Catergorize players using age bins\n",
    "bins=[0,9,14,19,24,29,34,39,150]\n",
    "intervals=[\"<10\", \"10-14\", \"15-20\", \"20-24\", \"25-29\", \"30-34\", \"35-40\", \"40+\"]\n",
    "players_age_gender[\"Age Intervals\"]=pd.cut(players_age_gender[\"Age\"], bins, labels=intervals)\n",
    "players_age_gender\n"
   ]
  },
  {
   "cell_type": "code",
   "execution_count": 458,
   "metadata": {},
   "outputs": [
    {
     "output_type": "execute_result",
     "data": {
      "text/plain": "Age Intervals\n<10       17\n10-14     22\n15-20    107\n20-24    258\n25-29     77\n30-34     52\n35-40     31\n40+       12\nName: Age Intervals, dtype: int64"
     },
     "metadata": {},
     "execution_count": 458
    }
   ],
   "source": [
    "#Calculate total count by age group\n",
    "players_age_gender=players_age_gender.groupby(\"Age Intervals\")\n",
    "interval_count=players_age_gender[\"Age Intervals\"].count()\n",
    "interval_count"
   ]
  },
  {
   "cell_type": "code",
   "execution_count": 468,
   "metadata": {},
   "outputs": [
    {
     "output_type": "execute_result",
     "data": {
      "text/plain": "<pandas.io.formats.style.Styler at 0x217e558e8c8>",
      "text/html": "<style  type=\"text/css\" >\n</style><table id=\"T_fab25b28_ff1c_11ea_aa0f_dd70182cc887\" ><thead>    <tr>        <th class=\"blank level0\" ></th>        <th class=\"col_heading level0 col0\" >Total Count</th>        <th class=\"col_heading level0 col1\" >Percentage of Players</th>    </tr>    <tr>        <th class=\"index_name level0\" >Age Intervals</th>        <th class=\"blank\" ></th>        <th class=\"blank\" ></th>    </tr></thead><tbody>\n                <tr>\n                        <th id=\"T_fab25b28_ff1c_11ea_aa0f_dd70182cc887level0_row0\" class=\"row_heading level0 row0\" ><10</th>\n                        <td id=\"T_fab25b28_ff1c_11ea_aa0f_dd70182cc887row0_col0\" class=\"data row0 col0\" >17</td>\n                        <td id=\"T_fab25b28_ff1c_11ea_aa0f_dd70182cc887row0_col1\" class=\"data row0 col1\" >2.95%</td>\n            </tr>\n            <tr>\n                        <th id=\"T_fab25b28_ff1c_11ea_aa0f_dd70182cc887level0_row1\" class=\"row_heading level0 row1\" >10-14</th>\n                        <td id=\"T_fab25b28_ff1c_11ea_aa0f_dd70182cc887row1_col0\" class=\"data row1 col0\" >22</td>\n                        <td id=\"T_fab25b28_ff1c_11ea_aa0f_dd70182cc887row1_col1\" class=\"data row1 col1\" >3.82%</td>\n            </tr>\n            <tr>\n                        <th id=\"T_fab25b28_ff1c_11ea_aa0f_dd70182cc887level0_row2\" class=\"row_heading level0 row2\" >15-20</th>\n                        <td id=\"T_fab25b28_ff1c_11ea_aa0f_dd70182cc887row2_col0\" class=\"data row2 col0\" >107</td>\n                        <td id=\"T_fab25b28_ff1c_11ea_aa0f_dd70182cc887row2_col1\" class=\"data row2 col1\" >18.58%</td>\n            </tr>\n            <tr>\n                        <th id=\"T_fab25b28_ff1c_11ea_aa0f_dd70182cc887level0_row3\" class=\"row_heading level0 row3\" >20-24</th>\n                        <td id=\"T_fab25b28_ff1c_11ea_aa0f_dd70182cc887row3_col0\" class=\"data row3 col0\" >258</td>\n                        <td id=\"T_fab25b28_ff1c_11ea_aa0f_dd70182cc887row3_col1\" class=\"data row3 col1\" >44.79%</td>\n            </tr>\n            <tr>\n                        <th id=\"T_fab25b28_ff1c_11ea_aa0f_dd70182cc887level0_row4\" class=\"row_heading level0 row4\" >25-29</th>\n                        <td id=\"T_fab25b28_ff1c_11ea_aa0f_dd70182cc887row4_col0\" class=\"data row4 col0\" >77</td>\n                        <td id=\"T_fab25b28_ff1c_11ea_aa0f_dd70182cc887row4_col1\" class=\"data row4 col1\" >13.37%</td>\n            </tr>\n            <tr>\n                        <th id=\"T_fab25b28_ff1c_11ea_aa0f_dd70182cc887level0_row5\" class=\"row_heading level0 row5\" >30-34</th>\n                        <td id=\"T_fab25b28_ff1c_11ea_aa0f_dd70182cc887row5_col0\" class=\"data row5 col0\" >52</td>\n                        <td id=\"T_fab25b28_ff1c_11ea_aa0f_dd70182cc887row5_col1\" class=\"data row5 col1\" >9.03%</td>\n            </tr>\n            <tr>\n                        <th id=\"T_fab25b28_ff1c_11ea_aa0f_dd70182cc887level0_row6\" class=\"row_heading level0 row6\" >35-40</th>\n                        <td id=\"T_fab25b28_ff1c_11ea_aa0f_dd70182cc887row6_col0\" class=\"data row6 col0\" >31</td>\n                        <td id=\"T_fab25b28_ff1c_11ea_aa0f_dd70182cc887row6_col1\" class=\"data row6 col1\" >5.38%</td>\n            </tr>\n            <tr>\n                        <th id=\"T_fab25b28_ff1c_11ea_aa0f_dd70182cc887level0_row7\" class=\"row_heading level0 row7\" >40+</th>\n                        <td id=\"T_fab25b28_ff1c_11ea_aa0f_dd70182cc887row7_col0\" class=\"data row7 col0\" >12</td>\n                        <td id=\"T_fab25b28_ff1c_11ea_aa0f_dd70182cc887row7_col1\" class=\"data row7 col1\" >2.08%</td>\n            </tr>\n    </tbody></table>"
     },
     "metadata": {},
     "execution_count": 468
    }
   ],
   "source": [
    "#Turn into data fram\n",
    "age_demographics=pd.DataFrame(interval_count)\n",
    "\n",
    "#Add percentage of players column and format\n",
    "age_demographics=age_demographics.rename(columns={\"Age Intervals\":\"Total Count\"})\n",
    "age_demographics[\"Percentage of Players\"]=(((age_demographics[\"Total Count\"])/576)*100)\n",
    "age_demographics=age_demographics.style.format({'Percentage of Players':\"{:,.2f}%\"})\n",
    "age_demographics"
   ]
  },
  {
   "cell_type": "markdown",
   "metadata": {},
   "source": [
    "## Purchasing Analysis (Age)"
   ]
  },
  {
   "cell_type": "markdown",
   "metadata": {},
   "source": [
    "* Bin the purchase_data data frame by age\n",
    "\n",
    "\n",
    "* Run basic calculations to obtain purchase count, avg. purchase price, avg. purchase total per person etc. in the table below\n",
    "\n",
    "\n",
    "* Create a summary data frame to hold the results\n",
    "\n",
    "\n",
    "* Optional: give the displayed data cleaner formatting\n",
    "\n",
    "\n",
    "* Display the summary data frame"
   ]
  },
  {
   "cell_type": "code",
   "execution_count": 460,
   "metadata": {},
   "outputs": [
    {
     "output_type": "execute_result",
     "data": {
      "text/plain": "               Age  Price Age Intervals\nSN                                     \nAdairialis76    16   2.28         15-20\nAdastirin33     35   4.48         35-40\nAeda94          17   4.91         15-20\nAela59          21   4.32         20-24\nAelaria33       23   1.79         20-24\n...            ...    ...           ...\nYathecal82      20   6.22         20-24\nYathedeu43      22   6.02         20-24\nYoishirrala98   17   4.58         15-20\nZhisrisu83      10   7.89         10-14\nZontibe81       21   8.03         20-24\n\n[576 rows x 3 columns]",
      "text/html": "<div>\n<style scoped>\n    .dataframe tbody tr th:only-of-type {\n        vertical-align: middle;\n    }\n\n    .dataframe tbody tr th {\n        vertical-align: top;\n    }\n\n    .dataframe thead th {\n        text-align: right;\n    }\n</style>\n<table border=\"1\" class=\"dataframe\">\n  <thead>\n    <tr style=\"text-align: right;\">\n      <th></th>\n      <th>Age</th>\n      <th>Price</th>\n      <th>Age Intervals</th>\n    </tr>\n    <tr>\n      <th>SN</th>\n      <th></th>\n      <th></th>\n      <th></th>\n    </tr>\n  </thead>\n  <tbody>\n    <tr>\n      <th>Adairialis76</th>\n      <td>16</td>\n      <td>2.28</td>\n      <td>15-20</td>\n    </tr>\n    <tr>\n      <th>Adastirin33</th>\n      <td>35</td>\n      <td>4.48</td>\n      <td>35-40</td>\n    </tr>\n    <tr>\n      <th>Aeda94</th>\n      <td>17</td>\n      <td>4.91</td>\n      <td>15-20</td>\n    </tr>\n    <tr>\n      <th>Aela59</th>\n      <td>21</td>\n      <td>4.32</td>\n      <td>20-24</td>\n    </tr>\n    <tr>\n      <th>Aelaria33</th>\n      <td>23</td>\n      <td>1.79</td>\n      <td>20-24</td>\n    </tr>\n    <tr>\n      <th>...</th>\n      <td>...</td>\n      <td>...</td>\n      <td>...</td>\n    </tr>\n    <tr>\n      <th>Yathecal82</th>\n      <td>20</td>\n      <td>6.22</td>\n      <td>20-24</td>\n    </tr>\n    <tr>\n      <th>Yathedeu43</th>\n      <td>22</td>\n      <td>6.02</td>\n      <td>20-24</td>\n    </tr>\n    <tr>\n      <th>Yoishirrala98</th>\n      <td>17</td>\n      <td>4.58</td>\n      <td>15-20</td>\n    </tr>\n    <tr>\n      <th>Zhisrisu83</th>\n      <td>10</td>\n      <td>7.89</td>\n      <td>10-14</td>\n    </tr>\n    <tr>\n      <th>Zontibe81</th>\n      <td>21</td>\n      <td>8.03</td>\n      <td>20-24</td>\n    </tr>\n  </tbody>\n</table>\n<p>576 rows × 3 columns</p>\n</div>"
     },
     "metadata": {},
     "execution_count": 460
    }
   ],
   "source": [
    "#Create a dataframe that removes duplicate SN's and holds corresponding age and price\n",
    "players_price_grouped=purchase_data.groupby([\"SN\"])\n",
    "players_price=players_price_grouped[\"Price\"].sum()\n",
    "players_age=players_gender_grouped[\"Age\"].min()\n",
    "players_age_price=pd.merge(players_age, players_price, on=\"SN\", how=\"outer\")\n",
    "players_age_price\n",
    "\n",
    "#Catergorize players using age bins\n",
    "bins=[0,9,14,19,24,29,34,39,150]\n",
    "intervals=[\"<10\", \"10-14\", \"15-20\", \"20-24\", \"25-29\", \"30-34\", \"35-40\", \"40+\"]\n",
    "players_age_price[\"Age Intervals\"]=pd.cut(players_age_price[\"Age\"], bins, labels=intervals)\n",
    "players_age_price\n"
   ]
  },
  {
   "cell_type": "code",
   "execution_count": 461,
   "metadata": {},
   "outputs": [
    {
     "output_type": "execute_result",
     "data": {
      "text/plain": "               Age  Purchase ID Age Intervals\nSN                                           \nAdairialis76    16            1         15-20\nAdastirin33     35            1         35-40\nAeda94          17            1         15-20\nAela59          21            1         20-24\nAelaria33       23            1         20-24\n...            ...          ...           ...\nYathecal82      20            3         20-24\nYathedeu43      22            2         20-24\nYoishirrala98   17            1         15-20\nZhisrisu83      10            2         10-14\nZontibe81       21            3         20-24\n\n[576 rows x 3 columns]",
      "text/html": "<div>\n<style scoped>\n    .dataframe tbody tr th:only-of-type {\n        vertical-align: middle;\n    }\n\n    .dataframe tbody tr th {\n        vertical-align: top;\n    }\n\n    .dataframe thead th {\n        text-align: right;\n    }\n</style>\n<table border=\"1\" class=\"dataframe\">\n  <thead>\n    <tr style=\"text-align: right;\">\n      <th></th>\n      <th>Age</th>\n      <th>Purchase ID</th>\n      <th>Age Intervals</th>\n    </tr>\n    <tr>\n      <th>SN</th>\n      <th></th>\n      <th></th>\n      <th></th>\n    </tr>\n  </thead>\n  <tbody>\n    <tr>\n      <th>Adairialis76</th>\n      <td>16</td>\n      <td>1</td>\n      <td>15-20</td>\n    </tr>\n    <tr>\n      <th>Adastirin33</th>\n      <td>35</td>\n      <td>1</td>\n      <td>35-40</td>\n    </tr>\n    <tr>\n      <th>Aeda94</th>\n      <td>17</td>\n      <td>1</td>\n      <td>15-20</td>\n    </tr>\n    <tr>\n      <th>Aela59</th>\n      <td>21</td>\n      <td>1</td>\n      <td>20-24</td>\n    </tr>\n    <tr>\n      <th>Aelaria33</th>\n      <td>23</td>\n      <td>1</td>\n      <td>20-24</td>\n    </tr>\n    <tr>\n      <th>...</th>\n      <td>...</td>\n      <td>...</td>\n      <td>...</td>\n    </tr>\n    <tr>\n      <th>Yathecal82</th>\n      <td>20</td>\n      <td>3</td>\n      <td>20-24</td>\n    </tr>\n    <tr>\n      <th>Yathedeu43</th>\n      <td>22</td>\n      <td>2</td>\n      <td>20-24</td>\n    </tr>\n    <tr>\n      <th>Yoishirrala98</th>\n      <td>17</td>\n      <td>1</td>\n      <td>15-20</td>\n    </tr>\n    <tr>\n      <th>Zhisrisu83</th>\n      <td>10</td>\n      <td>2</td>\n      <td>10-14</td>\n    </tr>\n    <tr>\n      <th>Zontibe81</th>\n      <td>21</td>\n      <td>3</td>\n      <td>20-24</td>\n    </tr>\n  </tbody>\n</table>\n<p>576 rows × 3 columns</p>\n</div>"
     },
     "metadata": {},
     "execution_count": 461
    }
   ],
   "source": [
    "#Create a dataframe that removes duplicate SN's and holds corresponding age and purchase ID\n",
    "players_ID_grouped=purchase_data.groupby([\"SN\"])\n",
    "players_ID=players_price_grouped[\"Purchase ID\"].count()\n",
    "players_age=players_gender_grouped[\"Age\"].min()\n",
    "players_age_ID=pd.merge(players_age, players_ID, on=\"SN\", how=\"outer\")\n",
    "players_age_ID\n",
    "\n",
    "#Catergorize players using age bins\n",
    "bins=[0,9,14,19,24,29,34,39,150]\n",
    "intervals=[\"<10\", \"10-14\", \"15-20\", \"20-24\", \"25-29\", \"30-34\", \"35-40\", \"40+\"]\n",
    "players_age_ID[\"Age Intervals\"]=pd.cut(players_age_ID[\"Age\"], bins, labels=intervals)\n",
    "players_age_ID"
   ]
  },
  {
   "cell_type": "code",
   "execution_count": 462,
   "metadata": {},
   "outputs": [
    {
     "output_type": "execute_result",
     "data": {
      "text/plain": "Age Intervals\n<10       23\n10-14     28\n15-20    136\n20-24    365\n25-29    101\n30-34     73\n35-40     41\n40+       13\nName: Purchase ID, dtype: int64"
     },
     "metadata": {},
     "execution_count": 462
    }
   ],
   "source": [
    "#Calculate purchase count by age group\n",
    "players_age_ID=players_age_ID.groupby(\"Age Intervals\")\n",
    "purchase_count=players_age_ID[\"Purchase ID\"].sum()\n",
    "purchase_count"
   ]
  },
  {
   "cell_type": "code",
   "execution_count": 463,
   "metadata": {},
   "outputs": [
    {
     "output_type": "execute_result",
     "data": {
      "text/plain": "Age Intervals\n<10        77.13\n10-14      82.78\n15-20     412.89\n20-24    1114.06\n25-29     293.00\n30-34     214.00\n35-40     147.67\n40+        38.24\nName: Price, dtype: float64"
     },
     "metadata": {},
     "execution_count": 463
    }
   ],
   "source": [
    "#Calculate purchase count by age group\n",
    "players_age_price=players_age_price.groupby(\"Age Intervals\")\n",
    "price_count=players_age_price[\"Price\"].sum()\n",
    "price_count"
   ]
  },
  {
   "cell_type": "code",
   "execution_count": 464,
   "metadata": {},
   "outputs": [
    {
     "output_type": "execute_result",
     "data": {
      "text/plain": "<pandas.io.formats.style.Styler at 0x217e4633e88>",
      "text/html": "<style  type=\"text/css\" >\n</style><table id=\"T_d0693d64_ff1c_11ea_9c2a_dd70182cc887\" ><thead>    <tr>        <th class=\"blank level0\" ></th>        <th class=\"col_heading level0 col0\" >Purchase Count</th>        <th class=\"col_heading level0 col1\" >Average Purchase Price</th>        <th class=\"col_heading level0 col2\" >Total Purchase Price</th>        <th class=\"col_heading level0 col3\" >Average Total Purchase per Person</th>    </tr>    <tr>        <th class=\"index_name level0\" >Age Intervals</th>        <th class=\"blank\" ></th>        <th class=\"blank\" ></th>        <th class=\"blank\" ></th>        <th class=\"blank\" ></th>    </tr></thead><tbody>\n                <tr>\n                        <th id=\"T_d0693d64_ff1c_11ea_9c2a_dd70182cc887level0_row0\" class=\"row_heading level0 row0\" ><10</th>\n                        <td id=\"T_d0693d64_ff1c_11ea_9c2a_dd70182cc887row0_col0\" class=\"data row0 col0\" >23</td>\n                        <td id=\"T_d0693d64_ff1c_11ea_9c2a_dd70182cc887row0_col1\" class=\"data row0 col1\" >$3.35</td>\n                        <td id=\"T_d0693d64_ff1c_11ea_9c2a_dd70182cc887row0_col2\" class=\"data row0 col2\" >$77.13</td>\n                        <td id=\"T_d0693d64_ff1c_11ea_9c2a_dd70182cc887row0_col3\" class=\"data row0 col3\" >$4.54</td>\n            </tr>\n            <tr>\n                        <th id=\"T_d0693d64_ff1c_11ea_9c2a_dd70182cc887level0_row1\" class=\"row_heading level0 row1\" >10-14</th>\n                        <td id=\"T_d0693d64_ff1c_11ea_9c2a_dd70182cc887row1_col0\" class=\"data row1 col0\" >28</td>\n                        <td id=\"T_d0693d64_ff1c_11ea_9c2a_dd70182cc887row1_col1\" class=\"data row1 col1\" >$2.96</td>\n                        <td id=\"T_d0693d64_ff1c_11ea_9c2a_dd70182cc887row1_col2\" class=\"data row1 col2\" >$82.78</td>\n                        <td id=\"T_d0693d64_ff1c_11ea_9c2a_dd70182cc887row1_col3\" class=\"data row1 col3\" >$3.76</td>\n            </tr>\n            <tr>\n                        <th id=\"T_d0693d64_ff1c_11ea_9c2a_dd70182cc887level0_row2\" class=\"row_heading level0 row2\" >15-20</th>\n                        <td id=\"T_d0693d64_ff1c_11ea_9c2a_dd70182cc887row2_col0\" class=\"data row2 col0\" >136</td>\n                        <td id=\"T_d0693d64_ff1c_11ea_9c2a_dd70182cc887row2_col1\" class=\"data row2 col1\" >$3.04</td>\n                        <td id=\"T_d0693d64_ff1c_11ea_9c2a_dd70182cc887row2_col2\" class=\"data row2 col2\" >$412.89</td>\n                        <td id=\"T_d0693d64_ff1c_11ea_9c2a_dd70182cc887row2_col3\" class=\"data row2 col3\" >$3.86</td>\n            </tr>\n            <tr>\n                        <th id=\"T_d0693d64_ff1c_11ea_9c2a_dd70182cc887level0_row3\" class=\"row_heading level0 row3\" >20-24</th>\n                        <td id=\"T_d0693d64_ff1c_11ea_9c2a_dd70182cc887row3_col0\" class=\"data row3 col0\" >365</td>\n                        <td id=\"T_d0693d64_ff1c_11ea_9c2a_dd70182cc887row3_col1\" class=\"data row3 col1\" >$3.05</td>\n                        <td id=\"T_d0693d64_ff1c_11ea_9c2a_dd70182cc887row3_col2\" class=\"data row3 col2\" >$1,114.06</td>\n                        <td id=\"T_d0693d64_ff1c_11ea_9c2a_dd70182cc887row3_col3\" class=\"data row3 col3\" >$4.32</td>\n            </tr>\n            <tr>\n                        <th id=\"T_d0693d64_ff1c_11ea_9c2a_dd70182cc887level0_row4\" class=\"row_heading level0 row4\" >25-29</th>\n                        <td id=\"T_d0693d64_ff1c_11ea_9c2a_dd70182cc887row4_col0\" class=\"data row4 col0\" >101</td>\n                        <td id=\"T_d0693d64_ff1c_11ea_9c2a_dd70182cc887row4_col1\" class=\"data row4 col1\" >$2.90</td>\n                        <td id=\"T_d0693d64_ff1c_11ea_9c2a_dd70182cc887row4_col2\" class=\"data row4 col2\" >$293.00</td>\n                        <td id=\"T_d0693d64_ff1c_11ea_9c2a_dd70182cc887row4_col3\" class=\"data row4 col3\" >$3.81</td>\n            </tr>\n            <tr>\n                        <th id=\"T_d0693d64_ff1c_11ea_9c2a_dd70182cc887level0_row5\" class=\"row_heading level0 row5\" >30-34</th>\n                        <td id=\"T_d0693d64_ff1c_11ea_9c2a_dd70182cc887row5_col0\" class=\"data row5 col0\" >73</td>\n                        <td id=\"T_d0693d64_ff1c_11ea_9c2a_dd70182cc887row5_col1\" class=\"data row5 col1\" >$2.93</td>\n                        <td id=\"T_d0693d64_ff1c_11ea_9c2a_dd70182cc887row5_col2\" class=\"data row5 col2\" >$214.00</td>\n                        <td id=\"T_d0693d64_ff1c_11ea_9c2a_dd70182cc887row5_col3\" class=\"data row5 col3\" >$4.12</td>\n            </tr>\n            <tr>\n                        <th id=\"T_d0693d64_ff1c_11ea_9c2a_dd70182cc887level0_row6\" class=\"row_heading level0 row6\" >35-40</th>\n                        <td id=\"T_d0693d64_ff1c_11ea_9c2a_dd70182cc887row6_col0\" class=\"data row6 col0\" >41</td>\n                        <td id=\"T_d0693d64_ff1c_11ea_9c2a_dd70182cc887row6_col1\" class=\"data row6 col1\" >$3.60</td>\n                        <td id=\"T_d0693d64_ff1c_11ea_9c2a_dd70182cc887row6_col2\" class=\"data row6 col2\" >$147.67</td>\n                        <td id=\"T_d0693d64_ff1c_11ea_9c2a_dd70182cc887row6_col3\" class=\"data row6 col3\" >$4.76</td>\n            </tr>\n            <tr>\n                        <th id=\"T_d0693d64_ff1c_11ea_9c2a_dd70182cc887level0_row7\" class=\"row_heading level0 row7\" >40+</th>\n                        <td id=\"T_d0693d64_ff1c_11ea_9c2a_dd70182cc887row7_col0\" class=\"data row7 col0\" >13</td>\n                        <td id=\"T_d0693d64_ff1c_11ea_9c2a_dd70182cc887row7_col1\" class=\"data row7 col1\" >$2.94</td>\n                        <td id=\"T_d0693d64_ff1c_11ea_9c2a_dd70182cc887row7_col2\" class=\"data row7 col2\" >$38.24</td>\n                        <td id=\"T_d0693d64_ff1c_11ea_9c2a_dd70182cc887row7_col3\" class=\"data row7 col3\" >$3.19</td>\n            </tr>\n    </tbody></table>"
     },
     "metadata": {},
     "execution_count": 464
    }
   ],
   "source": [
    "#Turn into data fram\n",
    "age_analysis=pd.DataFrame(purchase_count)\n",
    "age_analysis1=pd.DataFrame(price_count)\n",
    "\n",
    "#Add columns and format\n",
    "age_analysis[\"Total Purchase Price\"]=age_analysis1[\"Price\"]\n",
    "age_analysis[\"Average Purchase Price\"]=(age_analysis[\"Total Purchase Price\"]/age_analysis[\"Purchase ID\"])\n",
    "age_analysis[\"Average Total Purchase per Person\"]=(age_analysis[\"Total Purchase Price\"]/age_demographics[\"Total Count\"])\n",
    "age_analysis=age_analysis.rename(columns={\"Purchase ID\":\"Purchase Count\"})\n",
    "age_analysis=age_analysis[[\"Purchase Count\", \"Average Purchase Price\", \"Total Purchase Price\", \"Average Total Purchase per Person\"]]\n",
    "age_analysis=age_analysis.style.format({'Average Purchase Price':\"${:,.2f}\", \"Total Purchase Price\":\"${:,.2f}\", \"Average Total Purchase per Person\":\"${:,.2f}\"})\n",
    "age_analysis\n"
   ]
  },
  {
   "cell_type": "markdown",
   "metadata": {},
   "source": [
    "## Top Spenders"
   ]
  },
  {
   "cell_type": "markdown",
   "metadata": {},
   "source": [
    "* Run basic calculations to obtain the results in the table below\n",
    "\n",
    "\n",
    "* Create a summary data frame to hold the results\n",
    "\n",
    "\n",
    "* Sort the total purchase value column in descending order\n",
    "\n",
    "\n",
    "* Optional: give the displayed data cleaner formatting\n",
    "\n",
    "\n",
    "* Display a preview of the summary data frame\n",
    "\n"
   ]
  },
  {
   "cell_type": "code",
   "execution_count": 465,
   "metadata": {},
   "outputs": [
    {
     "output_type": "execute_result",
     "data": {
      "text/plain": "<pandas.io.formats.style.Styler at 0x217e51510c8>",
      "text/html": "<style  type=\"text/css\" >\n</style><table id=\"T_d0b67414_ff1c_11ea_b581_dd70182cc887\" ><thead>    <tr>        <th class=\"blank level0\" ></th>        <th class=\"col_heading level0 col0\" >Purchase Count</th>        <th class=\"col_heading level0 col1\" >Average Purchase Price</th>        <th class=\"col_heading level0 col2\" >Total Purchase Value</th>    </tr>    <tr>        <th class=\"index_name level0\" >SN</th>        <th class=\"blank\" ></th>        <th class=\"blank\" ></th>        <th class=\"blank\" ></th>    </tr></thead><tbody>\n                <tr>\n                        <th id=\"T_d0b67414_ff1c_11ea_b581_dd70182cc887level0_row0\" class=\"row_heading level0 row0\" >Lisosia93</th>\n                        <td id=\"T_d0b67414_ff1c_11ea_b581_dd70182cc887row0_col0\" class=\"data row0 col0\" >5</td>\n                        <td id=\"T_d0b67414_ff1c_11ea_b581_dd70182cc887row0_col1\" class=\"data row0 col1\" >$3.79</td>\n                        <td id=\"T_d0b67414_ff1c_11ea_b581_dd70182cc887row0_col2\" class=\"data row0 col2\" >$18.96</td>\n            </tr>\n            <tr>\n                        <th id=\"T_d0b67414_ff1c_11ea_b581_dd70182cc887level0_row1\" class=\"row_heading level0 row1\" >Idastidru52</th>\n                        <td id=\"T_d0b67414_ff1c_11ea_b581_dd70182cc887row1_col0\" class=\"data row1 col0\" >4</td>\n                        <td id=\"T_d0b67414_ff1c_11ea_b581_dd70182cc887row1_col1\" class=\"data row1 col1\" >$3.86</td>\n                        <td id=\"T_d0b67414_ff1c_11ea_b581_dd70182cc887row1_col2\" class=\"data row1 col2\" >$15.45</td>\n            </tr>\n            <tr>\n                        <th id=\"T_d0b67414_ff1c_11ea_b581_dd70182cc887level0_row2\" class=\"row_heading level0 row2\" >Chamjask73</th>\n                        <td id=\"T_d0b67414_ff1c_11ea_b581_dd70182cc887row2_col0\" class=\"data row2 col0\" >3</td>\n                        <td id=\"T_d0b67414_ff1c_11ea_b581_dd70182cc887row2_col1\" class=\"data row2 col1\" >$4.61</td>\n                        <td id=\"T_d0b67414_ff1c_11ea_b581_dd70182cc887row2_col2\" class=\"data row2 col2\" >$13.83</td>\n            </tr>\n            <tr>\n                        <th id=\"T_d0b67414_ff1c_11ea_b581_dd70182cc887level0_row3\" class=\"row_heading level0 row3\" >Iral74</th>\n                        <td id=\"T_d0b67414_ff1c_11ea_b581_dd70182cc887row3_col0\" class=\"data row3 col0\" >4</td>\n                        <td id=\"T_d0b67414_ff1c_11ea_b581_dd70182cc887row3_col1\" class=\"data row3 col1\" >$3.40</td>\n                        <td id=\"T_d0b67414_ff1c_11ea_b581_dd70182cc887row3_col2\" class=\"data row3 col2\" >$13.62</td>\n            </tr>\n            <tr>\n                        <th id=\"T_d0b67414_ff1c_11ea_b581_dd70182cc887level0_row4\" class=\"row_heading level0 row4\" >Iskadarya95</th>\n                        <td id=\"T_d0b67414_ff1c_11ea_b581_dd70182cc887row4_col0\" class=\"data row4 col0\" >3</td>\n                        <td id=\"T_d0b67414_ff1c_11ea_b581_dd70182cc887row4_col1\" class=\"data row4 col1\" >$4.37</td>\n                        <td id=\"T_d0b67414_ff1c_11ea_b581_dd70182cc887row4_col2\" class=\"data row4 col2\" >$13.10</td>\n            </tr>\n    </tbody></table>"
     },
     "metadata": {},
     "execution_count": 465
    }
   ],
   "source": [
    "#Create a dataframe with each players purchase count and total purchase value \n",
    "players_gender_grouped=purchase_data.groupby([\"SN\"])\n",
    "players_ID=players_gender_grouped[\"Purchase ID\"].count()\n",
    "players_price=players_gender_grouped[\"Price\"].sum()\n",
    "players_ID_price=pd.merge(players_ID, players_price, on=\"SN\", how=\"outer\")\n",
    "\n",
    "#Sort data by most spent\n",
    "sorted_players_ID_price=players_ID_price.sort_values(by='Price', ascending=False)\n",
    "\n",
    "#Select the top 5 \n",
    "top_spenders=sorted_players_ID_price.iloc[0:5,0:2]\n",
    "\n",
    "#Add average purchase price \n",
    "top_spenders[\"Average Purchase Price\"]=top_spenders[\"Price\"]/top_spenders[\"Purchase ID\"]\n",
    "\n",
    "#Format\n",
    "top_spenders=top_spenders[[\"Purchase ID\", \"Average Purchase Price\", \"Price\"]]\n",
    "top_spenders=top_spenders.rename(columns={\"Purchase ID\":\"Purchase Count\", \"Price\":\"Total Purchase Value\"})\n",
    "top_spenders=top_spenders.style.format({'Average Purchase Price':\"${:,.2f}\", \"Total Purchase Value\":\"${:,.2f}\"})\n",
    "\n",
    "#Display\n",
    "top_spenders"
   ]
  },
  {
   "cell_type": "markdown",
   "metadata": {},
   "source": [
    "## Most Popular Items"
   ]
  },
  {
   "cell_type": "markdown",
   "metadata": {},
   "source": [
    "* Retrieve the Item ID, Item Name, and Item Price columns\n",
    "\n",
    "\n",
    "* Group by Item ID and Item Name. Perform calculations to obtain purchase count, item price, and total purchase value\n",
    "\n",
    "\n",
    "* Create a summary data frame to hold the results\n",
    "\n",
    "\n",
    "* Sort the purchase count column in descending order\n",
    "\n",
    "\n",
    "* Optional: give the displayed data cleaner formatting\n",
    "\n",
    "\n",
    "* Display a preview of the summary data frame\n",
    "\n"
   ]
  },
  {
   "cell_type": "code",
   "execution_count": 466,
   "metadata": {},
   "outputs": [
    {
     "output_type": "execute_result",
     "data": {
      "text/plain": "<pandas.io.formats.style.Styler at 0x217e4c14508>",
      "text/html": "<style  type=\"text/css\" >\n</style><table id=\"T_d0fa59f0_ff1c_11ea_8cbd_dd70182cc887\" ><thead>    <tr>        <th class=\"blank level0\" ></th>        <th class=\"col_heading level0 col0\" >Item ID</th>        <th class=\"col_heading level0 col1\" >Purchase Count</th>        <th class=\"col_heading level0 col2\" >Item Price</th>        <th class=\"col_heading level0 col3\" >Total Purchase Value</th>    </tr>    <tr>        <th class=\"index_name level0\" >Item Name</th>        <th class=\"blank\" ></th>        <th class=\"blank\" ></th>        <th class=\"blank\" ></th>        <th class=\"blank\" ></th>    </tr></thead><tbody>\n                <tr>\n                        <th id=\"T_d0fa59f0_ff1c_11ea_8cbd_dd70182cc887level0_row0\" class=\"row_heading level0 row0\" >Final Critic</th>\n                        <td id=\"T_d0fa59f0_ff1c_11ea_8cbd_dd70182cc887row0_col0\" class=\"data row0 col0\" >92</td>\n                        <td id=\"T_d0fa59f0_ff1c_11ea_8cbd_dd70182cc887row0_col1\" class=\"data row0 col1\" >13</td>\n                        <td id=\"T_d0fa59f0_ff1c_11ea_8cbd_dd70182cc887row0_col2\" class=\"data row0 col2\" >$4.61</td>\n                        <td id=\"T_d0fa59f0_ff1c_11ea_8cbd_dd70182cc887row0_col3\" class=\"data row0 col3\" >$59.99</td>\n            </tr>\n            <tr>\n                        <th id=\"T_d0fa59f0_ff1c_11ea_8cbd_dd70182cc887level0_row1\" class=\"row_heading level0 row1\" >Oathbreaker, Last Hope of the Breaking Storm</th>\n                        <td id=\"T_d0fa59f0_ff1c_11ea_8cbd_dd70182cc887row1_col0\" class=\"data row1 col0\" >178</td>\n                        <td id=\"T_d0fa59f0_ff1c_11ea_8cbd_dd70182cc887row1_col1\" class=\"data row1 col1\" >12</td>\n                        <td id=\"T_d0fa59f0_ff1c_11ea_8cbd_dd70182cc887row1_col2\" class=\"data row1 col2\" >$4.23</td>\n                        <td id=\"T_d0fa59f0_ff1c_11ea_8cbd_dd70182cc887row1_col3\" class=\"data row1 col3\" >$50.76</td>\n            </tr>\n            <tr>\n                        <th id=\"T_d0fa59f0_ff1c_11ea_8cbd_dd70182cc887level0_row2\" class=\"row_heading level0 row2\" >Fiery Glass Crusader</th>\n                        <td id=\"T_d0fa59f0_ff1c_11ea_8cbd_dd70182cc887row2_col0\" class=\"data row2 col0\" >145</td>\n                        <td id=\"T_d0fa59f0_ff1c_11ea_8cbd_dd70182cc887row2_col1\" class=\"data row2 col1\" >9</td>\n                        <td id=\"T_d0fa59f0_ff1c_11ea_8cbd_dd70182cc887row2_col2\" class=\"data row2 col2\" >$4.58</td>\n                        <td id=\"T_d0fa59f0_ff1c_11ea_8cbd_dd70182cc887row2_col3\" class=\"data row2 col3\" >$41.22</td>\n            </tr>\n            <tr>\n                        <th id=\"T_d0fa59f0_ff1c_11ea_8cbd_dd70182cc887level0_row3\" class=\"row_heading level0 row3\" >Persuasion</th>\n                        <td id=\"T_d0fa59f0_ff1c_11ea_8cbd_dd70182cc887row3_col0\" class=\"data row3 col0\" >132</td>\n                        <td id=\"T_d0fa59f0_ff1c_11ea_8cbd_dd70182cc887row3_col1\" class=\"data row3 col1\" >9</td>\n                        <td id=\"T_d0fa59f0_ff1c_11ea_8cbd_dd70182cc887row3_col2\" class=\"data row3 col2\" >$3.22</td>\n                        <td id=\"T_d0fa59f0_ff1c_11ea_8cbd_dd70182cc887row3_col3\" class=\"data row3 col3\" >$28.99</td>\n            </tr>\n            <tr>\n                        <th id=\"T_d0fa59f0_ff1c_11ea_8cbd_dd70182cc887level0_row4\" class=\"row_heading level0 row4\" >Extraction, Quickblade Of Trembling Hands</th>\n                        <td id=\"T_d0fa59f0_ff1c_11ea_8cbd_dd70182cc887row4_col0\" class=\"data row4 col0\" >108</td>\n                        <td id=\"T_d0fa59f0_ff1c_11ea_8cbd_dd70182cc887row4_col1\" class=\"data row4 col1\" >9</td>\n                        <td id=\"T_d0fa59f0_ff1c_11ea_8cbd_dd70182cc887row4_col2\" class=\"data row4 col2\" >$3.53</td>\n                        <td id=\"T_d0fa59f0_ff1c_11ea_8cbd_dd70182cc887row4_col3\" class=\"data row4 col3\" >$31.77</td>\n            </tr>\n    </tbody></table>"
     },
     "metadata": {},
     "execution_count": 466
    }
   ],
   "source": [
    "\n",
    "#Group by Item ID and Item Name. Perform calculations to obtain purchase count, item price, and total purchase value \n",
    "item_info_grouped=purchase_data.groupby([\"Item ID\", \"Item Name\"]) \n",
    "item_ID=item_info_grouped[\"Item ID\"].min()\n",
    "purchase_price_items=item_info_grouped[\"Price\"].mean()\n",
    "purchase_count_items=item_info_grouped[\"Price\"].count()\n",
    "purchase_total_items=item_info_grouped[\"Price\"].sum()\n",
    "\n",
    "#Create a summary data frame to hold the results \n",
    "pop_items=pd.merge(purchase_total_items, purchase_count_items, on=\"Item Name\", how=\"outer\")\n",
    "pop_items=pd.merge(item_ID, pop_items, on=\"Item Name\", how=\"outer\")\n",
    "pop_items=pd.merge(purchase_price_items, pop_items, on=\"Item Name\", how=\"outer\")\n",
    "\n",
    "#Sort the purchase count column in descending order \n",
    "pop_items=pop_items.sort_values(by='Price_y', ascending=False)\n",
    "pop_items1=pop_items.iloc[0:5,0:4]\n",
    "\n",
    "#Optional: give the displayed data cleaner formatting \n",
    "#pop_items=pop_items.add_index([\"Item ID\"])\n",
    "pop_items1=pop_items1[[\"Item ID\", \"Price_y\", \"Price\", \"Price_x\"]]\n",
    "pop_items1=pop_items1.rename(columns={\"Price_x\":\"Total Purchase Value\", \"Price\":\"Item Price\", \"Price_y\":\"Purchase Count\"})\n",
    "pop_items1=pop_items1.style.format({'Item Price':\"${:,.2f}\", \"Total Purchase Value\":\"${:,.2f}\"})\n",
    "\n",
    "\n",
    "#Display a preview of the summary data frame\n",
    "pop_items1"
   ]
  },
  {
   "cell_type": "markdown",
   "metadata": {},
   "source": [
    "## Most Profitable Items"
   ]
  },
  {
   "cell_type": "markdown",
   "metadata": {},
   "source": [
    "* Sort the above table by total purchase value in descending order\n",
    "\n",
    "\n",
    "* Optional: give the displayed data cleaner formatting\n",
    "\n",
    "\n",
    "* Display a preview of the data frame\n",
    "\n"
   ]
  },
  {
   "cell_type": "code",
   "execution_count": 467,
   "metadata": {
    "scrolled": true
   },
   "outputs": [
    {
     "output_type": "execute_result",
     "data": {
      "text/plain": "<pandas.io.formats.style.Styler at 0x217e4d58308>",
      "text/html": "<style  type=\"text/css\" >\n</style><table id=\"T_d1536926_ff1c_11ea_8930_dd70182cc887\" ><thead>    <tr>        <th class=\"blank level0\" ></th>        <th class=\"col_heading level0 col0\" >Item ID</th>        <th class=\"col_heading level0 col1\" >Purchase Count</th>        <th class=\"col_heading level0 col2\" >Item Price</th>        <th class=\"col_heading level0 col3\" >Total Purchase Value</th>    </tr>    <tr>        <th class=\"index_name level0\" >Item Name</th>        <th class=\"blank\" ></th>        <th class=\"blank\" ></th>        <th class=\"blank\" ></th>        <th class=\"blank\" ></th>    </tr></thead><tbody>\n                <tr>\n                        <th id=\"T_d1536926_ff1c_11ea_8930_dd70182cc887level0_row0\" class=\"row_heading level0 row0\" >Final Critic</th>\n                        <td id=\"T_d1536926_ff1c_11ea_8930_dd70182cc887row0_col0\" class=\"data row0 col0\" >92</td>\n                        <td id=\"T_d1536926_ff1c_11ea_8930_dd70182cc887row0_col1\" class=\"data row0 col1\" >13</td>\n                        <td id=\"T_d1536926_ff1c_11ea_8930_dd70182cc887row0_col2\" class=\"data row0 col2\" >$4.61</td>\n                        <td id=\"T_d1536926_ff1c_11ea_8930_dd70182cc887row0_col3\" class=\"data row0 col3\" >$59.99</td>\n            </tr>\n            <tr>\n                        <th id=\"T_d1536926_ff1c_11ea_8930_dd70182cc887level0_row1\" class=\"row_heading level0 row1\" >Oathbreaker, Last Hope of the Breaking Storm</th>\n                        <td id=\"T_d1536926_ff1c_11ea_8930_dd70182cc887row1_col0\" class=\"data row1 col0\" >178</td>\n                        <td id=\"T_d1536926_ff1c_11ea_8930_dd70182cc887row1_col1\" class=\"data row1 col1\" >12</td>\n                        <td id=\"T_d1536926_ff1c_11ea_8930_dd70182cc887row1_col2\" class=\"data row1 col2\" >$4.23</td>\n                        <td id=\"T_d1536926_ff1c_11ea_8930_dd70182cc887row1_col3\" class=\"data row1 col3\" >$50.76</td>\n            </tr>\n            <tr>\n                        <th id=\"T_d1536926_ff1c_11ea_8930_dd70182cc887level0_row2\" class=\"row_heading level0 row2\" >Nirvana</th>\n                        <td id=\"T_d1536926_ff1c_11ea_8930_dd70182cc887row2_col0\" class=\"data row2 col0\" >82</td>\n                        <td id=\"T_d1536926_ff1c_11ea_8930_dd70182cc887row2_col1\" class=\"data row2 col1\" >9</td>\n                        <td id=\"T_d1536926_ff1c_11ea_8930_dd70182cc887row2_col2\" class=\"data row2 col2\" >$4.90</td>\n                        <td id=\"T_d1536926_ff1c_11ea_8930_dd70182cc887row2_col3\" class=\"data row2 col3\" >$44.10</td>\n            </tr>\n            <tr>\n                        <th id=\"T_d1536926_ff1c_11ea_8930_dd70182cc887level0_row3\" class=\"row_heading level0 row3\" >Fiery Glass Crusader</th>\n                        <td id=\"T_d1536926_ff1c_11ea_8930_dd70182cc887row3_col0\" class=\"data row3 col0\" >145</td>\n                        <td id=\"T_d1536926_ff1c_11ea_8930_dd70182cc887row3_col1\" class=\"data row3 col1\" >9</td>\n                        <td id=\"T_d1536926_ff1c_11ea_8930_dd70182cc887row3_col2\" class=\"data row3 col2\" >$4.58</td>\n                        <td id=\"T_d1536926_ff1c_11ea_8930_dd70182cc887row3_col3\" class=\"data row3 col3\" >$41.22</td>\n            </tr>\n            <tr>\n                        <th id=\"T_d1536926_ff1c_11ea_8930_dd70182cc887level0_row4\" class=\"row_heading level0 row4\" >Singed Scalpel</th>\n                        <td id=\"T_d1536926_ff1c_11ea_8930_dd70182cc887row4_col0\" class=\"data row4 col0\" >103</td>\n                        <td id=\"T_d1536926_ff1c_11ea_8930_dd70182cc887row4_col1\" class=\"data row4 col1\" >8</td>\n                        <td id=\"T_d1536926_ff1c_11ea_8930_dd70182cc887row4_col2\" class=\"data row4 col2\" >$4.35</td>\n                        <td id=\"T_d1536926_ff1c_11ea_8930_dd70182cc887row4_col3\" class=\"data row4 col3\" >$34.80</td>\n            </tr>\n    </tbody></table>"
     },
     "metadata": {},
     "execution_count": 467
    }
   ],
   "source": [
    "prof_items=pop_items.sort_values(by=\"Price_x\", ascending=False)\n",
    "prof_items=prof_items.iloc[0:5,0:4]\n",
    "prof_items=prof_items[[\"Item ID\", \"Price_y\", \"Price\", \"Price_x\"]]\n",
    "prof_items=prof_items.rename(columns={\"Price_x\":\"Total Purchase Value\", \"Price\":\"Item Price\", \"Price_y\":\"Purchase Count\"})\n",
    "prof_items=prof_items.style.format({'Item Price':\"${:,.2f}\", \"Total Purchase Value\":\"${:,.2f}\"})\n",
    "prof_items"
   ]
  }
 ],
 "metadata": {
  "anaconda-cloud": {},
  "kernel_info": {
   "name": "python3"
  },
  "kernelspec": {
   "display_name": "Python 3",
   "language": "python",
   "name": "python3"
  },
  "language_info": {
   "codemirror_mode": {
    "name": "ipython",
    "version": 3
   },
   "file_extension": ".py",
   "mimetype": "text/x-python",
   "name": "python",
   "nbconvert_exporter": "python",
   "pygments_lexer": "ipython3",
   "version": "3.7.6-final"
  },
  "latex_envs": {
   "LaTeX_envs_menu_present": true,
   "autoclose": false,
   "autocomplete": true,
   "bibliofile": "biblio.bib",
   "cite_by": "apalike",
   "current_citInitial": 1,
   "eqLabelWithNumbers": true,
   "eqNumInitial": 1,
   "hotkeys": {
    "equation": "Ctrl-E",
    "itemize": "Ctrl-I"
   },
   "labels_anchors": false,
   "latex_user_defs": false,
   "report_style_numbering": false,
   "user_envs_cfg": false
  },
  "nteract": {
   "version": "0.2.0"
  }
 },
 "nbformat": 4,
 "nbformat_minor": 2
}